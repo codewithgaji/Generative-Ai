{
 "cells": [
  {
   "cell_type": "code",
   "execution_count": 1,
   "id": "ddfb8dd7",
   "metadata": {},
   "outputs": [],
   "source": [
    "import torch"
   ]
  },
  {
   "cell_type": "code",
   "execution_count": 2,
   "id": "abe078fc",
   "metadata": {},
   "outputs": [
    {
     "data": {
      "text/plain": [
       "tensor([0, 1, 2, 3, 4, 5, 6, 7, 8, 9])"
      ]
     },
     "execution_count": 2,
     "metadata": {},
     "output_type": "execute_result"
    }
   ],
   "source": [
    "# 'arange' is used to get a range of values e.g (0 to 10(exclusive))\n",
    "my_torch = torch.arange(10)\n",
    "my_torch"
   ]
  },
  {
   "cell_type": "code",
   "execution_count": 4,
   "id": "ace44281",
   "metadata": {},
   "outputs": [
    {
     "data": {
      "text/plain": [
       "tensor([[0, 1, 2, 3, 4],\n",
       "        [5, 6, 7, 8, 9]])"
      ]
     },
     "execution_count": 4,
     "metadata": {},
     "output_type": "execute_result"
    }
   ],
   "source": [
    "# Reshape and view - We use the 'reshape' func to shape the tensors to rows and columns\n",
    "my_torch = my_torch.reshape(2, 5) # The rows and columns must fit the size\n",
    "my_torch"
   ]
  },
  {
   "cell_type": "code",
   "execution_count": 8,
   "id": "cef1ee35",
   "metadata": {},
   "outputs": [
    {
     "data": {
      "text/plain": [
       "tensor([ 0,  1,  2,  3,  4,  5,  6,  7,  8,  9, 10, 11, 12, 13, 14])"
      ]
     },
     "execution_count": 8,
     "metadata": {},
     "output_type": "execute_result"
    }
   ],
   "source": [
    "#Reshape if you don't know the number of items\n",
    "my_torch2 = torch.arange(15)\n",
    "my_torch2"
   ]
  },
  {
   "cell_type": "code",
   "execution_count": 10,
   "id": "d92c4530",
   "metadata": {},
   "outputs": [
    {
     "data": {
      "text/plain": [
       "tensor([[ 0,  1,  2,  3,  4],\n",
       "        [ 5,  6,  7,  8,  9],\n",
       "        [10, 11, 12, 13, 14]])"
      ]
     },
     "execution_count": 10,
     "metadata": {},
     "output_type": "execute_result"
    }
   ],
   "source": [
    "# the rows must be able to divide the range size as well, like 10 / 2 works, so we can use it\n",
    "my_torch2 = my_torch2.reshape(-1, 5) # The '-1' is for something we don't know, like the column/row\n",
    "my_torch2"
   ]
  },
  {
   "cell_type": "code",
   "execution_count": 12,
   "id": "9ff0398d",
   "metadata": {},
   "outputs": [
    {
     "data": {
      "text/plain": [
       "tensor([0, 1, 2, 3, 4, 5, 6, 7, 8, 9])"
      ]
     },
     "execution_count": 12,
     "metadata": {},
     "output_type": "execute_result"
    }
   ],
   "source": [
    "my_torch3 = torch.arange(10)\n",
    "my_torch3"
   ]
  },
  {
   "cell_type": "code",
   "execution_count": 13,
   "id": "9b3b73d4",
   "metadata": {},
   "outputs": [
    {
     "data": {
      "text/plain": [
       "tensor([[0, 1, 2, 3, 4],\n",
       "        [5, 6, 7, 8, 9]])"
      ]
     },
     "execution_count": 13,
     "metadata": {},
     "output_type": "execute_result"
    }
   ],
   "source": [
    "#View and reshape are very similar, but also have their differences\n",
    "my_torch4 = my_torch3.view(2, 5)\n",
    "my_torch4"
   ]
  },
  {
   "cell_type": "code",
   "execution_count": 22,
   "id": "c9fdc9df",
   "metadata": {},
   "outputs": [
    {
     "data": {
      "text/plain": [
       "tensor([0, 1, 2, 3, 4, 5, 6, 7, 8, 9])"
      ]
     },
     "execution_count": 22,
     "metadata": {},
     "output_type": "execute_result"
    }
   ],
   "source": [
    "#With reshape and view, they will update\n",
    "my_torch5 = torch.arange(10)\n",
    "my_torch5"
   ]
  },
  {
   "cell_type": "code",
   "execution_count": 29,
   "id": "8cf6cb41",
   "metadata": {},
   "outputs": [
    {
     "data": {
      "text/plain": [
       "tensor([[   0, 4141,    2,    3,    4],\n",
       "        [   5,    6,    7,    8,    9]])"
      ]
     },
     "execution_count": 29,
     "metadata": {},
     "output_type": "execute_result"
    }
   ],
   "source": [
    "my_torch6 = my_torch5.reshape(2, 5)\n",
    "my_torch6"
   ]
  },
  {
   "cell_type": "code",
   "execution_count": 30,
   "id": "85be792c",
   "metadata": {},
   "outputs": [
    {
     "data": {
      "text/plain": [
       "tensor([   0, 4141,    2,    3,    4,    5,    6,    7,    8,    9])"
      ]
     },
     "execution_count": 30,
     "metadata": {},
     "output_type": "execute_result"
    }
   ],
   "source": [
    "my_torch5[1] = 4141\n",
    "my_torch5"
   ]
  },
  {
   "cell_type": "code",
   "execution_count": 31,
   "id": "69eddc91",
   "metadata": {},
   "outputs": [
    {
     "data": {
      "text/plain": [
       "tensor([[   0, 4141,    2,    3,    4],\n",
       "        [   5,    6,    7,    8,    9]])"
      ]
     },
     "execution_count": 31,
     "metadata": {},
     "output_type": "execute_result"
    }
   ],
   "source": [
    "my_torch6 # It changes to the updated value of my_torch5"
   ]
  },
  {
   "cell_type": "code",
   "execution_count": 32,
   "id": "e37b7657",
   "metadata": {},
   "outputs": [
    {
     "data": {
      "text/plain": [
       "tensor([0, 1, 2, 3, 4, 5, 6, 7, 8, 9])"
      ]
     },
     "execution_count": 32,
     "metadata": {},
     "output_type": "execute_result"
    }
   ],
   "source": [
    "#SLICES\n",
    "my_torch7 = torch.arange(10)\n",
    "my_torch7"
   ]
  },
  {
   "cell_type": "code",
   "execution_count": 34,
   "id": "90046ff0",
   "metadata": {},
   "outputs": [
    {
     "data": {
      "text/plain": [
       "tensor(7)"
      ]
     },
     "execution_count": 34,
     "metadata": {},
     "output_type": "execute_result"
    }
   ],
   "source": [
    "# This is not the number 7, but the scalar value of 7\n",
    "#Grab a specific item\n",
    "my_torch7[7]"
   ]
  },
  {
   "cell_type": "code",
   "execution_count": 35,
   "id": "2e0ef29c",
   "metadata": {},
   "outputs": [
    {
     "data": {
      "text/plain": [
       "tensor([[0, 1],\n",
       "        [2, 3],\n",
       "        [4, 5],\n",
       "        [6, 7],\n",
       "        [8, 9]])"
      ]
     },
     "execution_count": 35,
     "metadata": {},
     "output_type": "execute_result"
    }
   ],
   "source": [
    "#Grab a slice\n",
    "my_torch8 = my_torch7.reshape(5, 2)\n",
    "my_torch8"
   ]
  },
  {
   "cell_type": "code",
   "execution_count": 38,
   "id": "6f4faf07",
   "metadata": {},
   "outputs": [
    {
     "data": {
      "text/plain": [
       "tensor([1, 3, 5, 7, 9])"
      ]
     },
     "execution_count": 38,
     "metadata": {},
     "output_type": "execute_result"
    }
   ],
   "source": [
    "#Grabbing the Numbers: '1, 3, 5, 9'\n",
    "my_torch8[:, 1] # the comma ',' is needed, remeber"
   ]
  },
  {
   "cell_type": "code",
   "execution_count": 39,
   "id": "65dd81ed",
   "metadata": {},
   "outputs": [
    {
     "data": {
      "text/plain": [
       "tensor([[1],\n",
       "        [3],\n",
       "        [5],\n",
       "        [7],\n",
       "        [9]])"
      ]
     },
     "execution_count": 39,
     "metadata": {},
     "output_type": "execute_result"
    }
   ],
   "source": [
    "#What if we want to keep the shape and return the column?\n",
    "my_torch8[:, 1: ]"
   ]
  },
  {
   "cell_type": "code",
   "execution_count": null,
   "id": "fd3dd655",
   "metadata": {},
   "outputs": [],
   "source": []
  }
 ],
 "metadata": {
  "kernelspec": {
   "display_name": "Python 3 (ipykernel)",
   "language": "python",
   "name": "python3"
  },
  "language_info": {
   "codemirror_mode": {
    "name": "ipython",
    "version": 3
   },
   "file_extension": ".py",
   "mimetype": "text/x-python",
   "name": "python",
   "nbconvert_exporter": "python",
   "pygments_lexer": "ipython3",
   "version": "3.9.12"
  }
 },
 "nbformat": 4,
 "nbformat_minor": 5
}
