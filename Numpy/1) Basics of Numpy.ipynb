{
 "cells": [
  {
   "cell_type": "markdown",
   "id": "1af641e1",
   "metadata": {},
   "source": [
    "## The Basics of Numpy"
   ]
  },
  {
   "cell_type": "code",
   "execution_count": 1,
   "id": "ecc2d1ef",
   "metadata": {},
   "outputs": [],
   "source": [
    "import numpy as np\n",
    "\n",
    "\n",
    "# Ensure you have numpy installed before running the above code\n",
    "# Note: numpy can be imported as anything, the 'np' is just a conventional method\n",
    "# We are importing numpy as 'np' here so we can use it to turn raw values to arrays"
   ]
  },
  {
   "cell_type": "code",
   "execution_count": 2,
   "id": "6452fac3",
   "metadata": {},
   "outputs": [
    {
     "name": "stdout",
     "output_type": "stream",
     "text": [
      "[1 2 3]\n"
     ]
    }
   ],
   "source": [
    "a = np.array([1, 2, 3]) \n",
    "print(a)\n",
    "\n",
    "# This is a 1d array and how you can initialize the array by setting 'np.array([values])'"
   ]
  },
  {
   "cell_type": "code",
   "execution_count": 3,
   "id": "15afd909",
   "metadata": {},
   "outputs": [
    {
     "name": "stdout",
     "output_type": "stream",
     "text": [
      "[[9. 8. 7.]\n",
      " [6. 5. 4.]]\n"
     ]
    }
   ],
   "source": [
    "b = np.array([[9.0, 8.0, 7.0], [6.0, 5.0, 4.0]]) \n",
    "print(b)\n",
    "\n",
    "\n",
    "# This is a 2 dimensional array, each square bracket[] seperated by a comma ',' \n",
    "# Note: arrays can only be of one data type, if they are going to be floats(2.0) make them floats...\n",
    "# Note: ...if they are going to be integers(3) make the whole array integers, \n",
    "# Note: Mixing them up would result in an error e.g(1, 3.0, 5, 7.1) is WRONG"
   ]
  },
  {
   "cell_type": "code",
   "execution_count": 4,
   "id": "ea76d1d9",
   "metadata": {},
   "outputs": [
    {
     "data": {
      "text/plain": [
       "1"
      ]
     },
     "execution_count": 4,
     "metadata": {},
     "output_type": "execute_result"
    }
   ],
   "source": [
    "a.ndim\n",
    "\n",
    "# This tells us the dimension of an array, which we've already specified....\n",
    "# that 'a' was a 1 dimensional array"
   ]
  },
  {
   "cell_type": "code",
   "execution_count": 5,
   "id": "7301c3cf",
   "metadata": {},
   "outputs": [
    {
     "data": {
      "text/plain": [
       "2"
      ]
     },
     "execution_count": 5,
     "metadata": {},
     "output_type": "execute_result"
    }
   ],
   "source": [
    "b.ndim \n",
    "\n",
    "# (n) means number of,  (dim) means dimensional arrays"
   ]
  },
  {
   "cell_type": "code",
   "execution_count": 6,
   "id": "30f6870b",
   "metadata": {},
   "outputs": [
    {
     "data": {
      "text/plain": [
       "(3,)"
      ]
     },
     "execution_count": 6,
     "metadata": {},
     "output_type": "execute_result"
    }
   ],
   "source": [
    "a.shape\n",
    "\n",
    "# Get shape, This tells us the amount of rows and columns in an array\n",
    "# which, in this case, 'a' is only 3 columns"
   ]
  },
  {
   "cell_type": "code",
   "execution_count": 7,
   "id": "140ab5fc",
   "metadata": {},
   "outputs": [
    {
     "data": {
      "text/plain": [
       "(2, 3)"
      ]
     },
     "execution_count": 7,
     "metadata": {},
     "output_type": "execute_result"
    }
   ],
   "source": [
    "b.shape \n",
    "\n",
    "# This tells us we have 2 rows and 3 columns"
   ]
  },
  {
   "cell_type": "code",
   "execution_count": 8,
   "id": "e90267f5",
   "metadata": {},
   "outputs": [
    {
     "data": {
      "text/plain": [
       "dtype('int32')"
      ]
     },
     "execution_count": 8,
     "metadata": {},
     "output_type": "execute_result"
    }
   ],
   "source": [
    "a.dtype\n",
    "\n",
    "# Get type this tells us the type of data it is, best to specify the dtype to save space"
   ]
  },
  {
   "cell_type": "code",
   "execution_count": 9,
   "id": "3a598d59",
   "metadata": {},
   "outputs": [
    {
     "data": {
      "text/plain": [
       "4"
      ]
     },
     "execution_count": 9,
     "metadata": {},
     "output_type": "execute_result"
    }
   ],
   "source": [
    "a.itemsize\n",
    "\n",
    "# To get size"
   ]
  },
  {
   "cell_type": "code",
   "execution_count": 10,
   "id": "f9e2100c",
   "metadata": {},
   "outputs": [
    {
     "data": {
      "text/plain": [
       "8"
      ]
     },
     "execution_count": 10,
     "metadata": {},
     "output_type": "execute_result"
    }
   ],
   "source": [
    "b.itemsize\n",
    "\n",
    "# Float sizes are bigger than integers"
   ]
  },
  {
   "cell_type": "code",
   "execution_count": 11,
   "id": "8e5df132",
   "metadata": {},
   "outputs": [
    {
     "data": {
      "text/plain": [
       "3"
      ]
     },
     "execution_count": 11,
     "metadata": {},
     "output_type": "execute_result"
    }
   ],
   "source": [
    "a.size\n",
    "\n",
    "# To get total values"
   ]
  },
  {
   "cell_type": "code",
   "execution_count": 12,
   "id": "4db6002e",
   "metadata": {},
   "outputs": [
    {
     "data": {
      "text/plain": [
       "12"
      ]
     },
     "execution_count": 12,
     "metadata": {},
     "output_type": "execute_result"
    }
   ],
   "source": [
    "a.nbytes\n",
    "\n",
    "#To get  total size is: 'nbytes'"
   ]
  },
  {
   "cell_type": "markdown",
   "id": "e067c742",
   "metadata": {},
   "source": [
    "Accessing/Changing specific elements in rows,columns,etc"
   ]
  },
  {
   "cell_type": "code",
   "execution_count": 13,
   "id": "d40596e0",
   "metadata": {},
   "outputs": [
    {
     "name": "stdout",
     "output_type": "stream",
     "text": [
      "[[ 1  2  3  4  5  6  7]\n",
      " [ 8  9 10 11 12 13 14]]\n"
     ]
    }
   ],
   "source": [
    "a = np.array([[1,2,3,4,5,6,7], [8,9,10,11,12,13,14]])\n",
    "print(a)\n",
    "\n",
    "# This is a 2 by 7 array, meaning 2 rows and 7 columns each"
   ]
  },
  {
   "cell_type": "code",
   "execution_count": 14,
   "id": "0849c822",
   "metadata": {},
   "outputs": [
    {
     "data": {
      "text/plain": [
       "(2, 7)"
      ]
     },
     "execution_count": 14,
     "metadata": {},
     "output_type": "execute_result"
    }
   ],
   "source": [
    "a.shape"
   ]
  },
  {
   "cell_type": "code",
   "execution_count": 15,
   "id": "f3580375",
   "metadata": {},
   "outputs": [
    {
     "data": {
      "text/plain": [
       "13"
      ]
     },
     "execution_count": 15,
     "metadata": {},
     "output_type": "execute_result"
    }
   ],
   "source": [
    "a[1, -2] or a[1, 5]\n",
    "\n",
    "# Getting a specific element using [r, c]\n",
    "# You can use both posiive and negative indexing"
   ]
  },
  {
   "cell_type": "code",
   "execution_count": 16,
   "id": "e623427f",
   "metadata": {},
   "outputs": [
    {
     "data": {
      "text/plain": [
       "array([1, 2, 3, 4, 5, 6, 7])"
      ]
     },
     "execution_count": 16,
     "metadata": {},
     "output_type": "execute_result"
    }
   ],
   "source": [
    "a[0, : ]\n",
    "\n",
    "# Getting a specific row\n",
    "# We use slice just like in lists"
   ]
  },
  {
   "cell_type": "code",
   "execution_count": 17,
   "id": "5f87aa1d",
   "metadata": {},
   "outputs": [
    {
     "data": {
      "text/plain": [
       "array([ 3, 10])"
      ]
     },
     "execution_count": 17,
     "metadata": {},
     "output_type": "execute_result"
    }
   ],
   "source": [
    "a[:, 2]\n",
    "\n",
    "# Getting a specific column\n",
    "# This ':,' will get all the rows and then you specify the column"
   ]
  },
  {
   "cell_type": "code",
   "execution_count": 18,
   "id": "5501c8b5",
   "metadata": {},
   "outputs": [
    {
     "data": {
      "text/plain": [
       "array([2, 4, 6])"
      ]
     },
     "execution_count": 18,
     "metadata": {},
     "output_type": "execute_result"
    }
   ],
   "source": [
    "a[0, 1: 6:2]\n",
    "\n",
    "# Getting a little more fancy [startindex:endindex:stepsize]\n",
    "# The '0' will get me the first row, the '1:' is to start from the second element\n",
    "\n",
    "# The '6:' will get me all elements up to the 6th index, excluding the 6th index\n",
    "# Which means it will be getting me from 1,which is '2' to 6, which is '6'\n",
    "\n",
    "#the ':2' is a \"STEP\" just like in lists to print \"2,4,6\" of the first row(even numbers)"
   ]
  },
  {
   "cell_type": "code",
   "execution_count": 19,
   "id": "edd3d06f",
   "metadata": {},
   "outputs": [
    {
     "data": {
      "text/plain": [
       "array([ 8, 10, 12])"
      ]
     },
     "execution_count": 19,
     "metadata": {},
     "output_type": "execute_result"
    }
   ],
   "source": [
    "a[1, 0:6 :2]\n",
    "\n",
    "# This takes the second row, then initialize the index start and end\n",
    "# then initialize the 'Step'"
   ]
  },
  {
   "cell_type": "code",
   "execution_count": 20,
   "id": "2b080c8d",
   "metadata": {},
   "outputs": [
    {
     "name": "stdout",
     "output_type": "stream",
     "text": [
      "[[ 1  2  3  4  5  6  7]\n",
      " [ 8  9 10 11 12 20 14]]\n"
     ]
    }
   ],
   "source": [
    "a[1, 5] = 20\n",
    "print(a)\n",
    "\n",
    "# Changing values in an array, first initialize the row, and column\n",
    "# This shows the value of '13' has been changed to '20'"
   ]
  },
  {
   "cell_type": "code",
   "execution_count": 21,
   "id": "88dcc6d8",
   "metadata": {},
   "outputs": [
    {
     "data": {
      "text/plain": [
       "array([[ 1,  2,  5,  4,  5,  6,  7],\n",
       "       [ 8,  9,  5, 11, 12, 20, 14]])"
      ]
     },
     "execution_count": 21,
     "metadata": {},
     "output_type": "execute_result"
    }
   ],
   "source": [
    "a[:, 2] = 5\n",
    "a\n",
    "\n",
    "# Instead of using 'print(a)' we call 'a' because jupyter notebook allows that for easier usability\n",
    "# Changing series of values in an array\n",
    "# This shows the values of that 'Column' has changed"
   ]
  },
  {
   "cell_type": "code",
   "execution_count": 22,
   "id": "a30385cc",
   "metadata": {},
   "outputs": [
    {
     "data": {
      "text/plain": [
       "array([[ 1,  2,  1,  4,  5,  6,  7],\n",
       "       [ 8,  9,  2, 11, 12, 20, 14]])"
      ]
     },
     "execution_count": 22,
     "metadata": {},
     "output_type": "execute_result"
    }
   ],
   "source": [
    "a[:, 2] = [1,2]\n",
    "a\n",
    "\n",
    "# This will specify and change the values of the column"
   ]
  },
  {
   "cell_type": "code",
   "execution_count": 23,
   "id": "a916347c",
   "metadata": {},
   "outputs": [
    {
     "data": {
      "text/plain": [
       "array([[ 1,  2,  1,  4,  5,  6,  7],\n",
       "       [ 8,  9,  2, 11, 99, 20, 14]])"
      ]
     },
     "execution_count": 23,
     "metadata": {},
     "output_type": "execute_result"
    }
   ],
   "source": [
    "a[1:, 4] = 99\n",
    "a\n",
    "\n",
    "# similar example"
   ]
  },
  {
   "cell_type": "code",
   "execution_count": 24,
   "id": "b195af15",
   "metadata": {},
   "outputs": [
    {
     "data": {
      "text/plain": [
       "14"
      ]
     },
     "execution_count": 24,
     "metadata": {},
     "output_type": "execute_result"
    }
   ],
   "source": [
    "a.size"
   ]
  },
  {
   "cell_type": "code",
   "execution_count": 25,
   "id": "1c8a0e43",
   "metadata": {},
   "outputs": [
    {
     "data": {
      "text/plain": [
       "4"
      ]
     },
     "execution_count": 25,
     "metadata": {},
     "output_type": "execute_result"
    }
   ],
   "source": [
    "a.itemsize"
   ]
  },
  {
   "cell_type": "code",
   "execution_count": 26,
   "id": "23d40c76",
   "metadata": {},
   "outputs": [
    {
     "data": {
      "text/plain": [
       "56"
      ]
     },
     "execution_count": 26,
     "metadata": {},
     "output_type": "execute_result"
    }
   ],
   "source": [
    "a.nbytes"
   ]
  },
  {
   "cell_type": "code",
   "execution_count": 27,
   "id": "e794b3a3",
   "metadata": {},
   "outputs": [
    {
     "data": {
      "text/plain": [
       "(2, 7)"
      ]
     },
     "execution_count": 27,
     "metadata": {},
     "output_type": "execute_result"
    }
   ],
   "source": [
    "a.shape"
   ]
  },
  {
   "cell_type": "code",
   "execution_count": null,
   "id": "52b3b64d",
   "metadata": {},
   "outputs": [],
   "source": []
  }
 ],
 "metadata": {
  "kernelspec": {
   "display_name": "Python 3 (ipykernel)",
   "language": "python",
   "name": "python3"
  },
  "language_info": {
   "codemirror_mode": {
    "name": "ipython",
    "version": 3
   },
   "file_extension": ".py",
   "mimetype": "text/x-python",
   "name": "python",
   "nbconvert_exporter": "python",
   "pygments_lexer": "ipython3",
   "version": "3.9.12"
  }
 },
 "nbformat": 4,
 "nbformat_minor": 5
}
