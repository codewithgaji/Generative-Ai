{
 "cells": [
  {
   "cell_type": "code",
   "execution_count": 1,
   "id": "4b940432",
   "metadata": {},
   "outputs": [],
   "source": [
    "import numpy as np"
   ]
  },
  {
   "cell_type": "markdown",
   "id": "9418adb4",
   "metadata": {},
   "source": [
    "## Addition(+)\n",
    "## Subtraction(-)\n",
    "## Division (/)\n",
    "## Multiplication (*)\n",
    "## Power (**)\n",
    "## sine(sin)\n",
    "## cosine(cos)"
   ]
  },
  {
   "cell_type": "code",
   "execution_count": 2,
   "id": "3ba70e64",
   "metadata": {},
   "outputs": [
    {
     "name": "stdout",
     "output_type": "stream",
     "text": [
      "[1 2 3 4]\n"
     ]
    }
   ],
   "source": [
    "a = np.array([1,2,3,4])\n",
    "print(a)"
   ]
  },
  {
   "cell_type": "code",
   "execution_count": 3,
   "id": "410291f5",
   "metadata": {},
   "outputs": [
    {
     "data": {
      "text/plain": [
       "array([3, 4, 5, 6])"
      ]
     },
     "execution_count": 3,
     "metadata": {},
     "output_type": "execute_result"
    }
   ],
   "source": [
    "a + 2 \n",
    "\n",
    "# Adds 2 to each element"
   ]
  },
  {
   "cell_type": "code",
   "execution_count": 4,
   "id": "d447fd62",
   "metadata": {},
   "outputs": [
    {
     "data": {
      "text/plain": [
       "array([-1,  0,  1,  2])"
      ]
     },
     "execution_count": 4,
     "metadata": {},
     "output_type": "execute_result"
    }
   ],
   "source": [
    "a - 2\n",
    "\n",
    "# Subtracts 2 from each element"
   ]
  },
  {
   "cell_type": "code",
   "execution_count": 5,
   "id": "944317bf",
   "metadata": {},
   "outputs": [
    {
     "data": {
      "text/plain": [
       "array([2, 4, 6, 8])"
      ]
     },
     "execution_count": 5,
     "metadata": {},
     "output_type": "execute_result"
    }
   ],
   "source": [
    "a * 2\n",
    "\n",
    "# Multiply each elements by 2"
   ]
  },
  {
   "cell_type": "code",
   "execution_count": 6,
   "id": "218a9c81",
   "metadata": {},
   "outputs": [
    {
     "data": {
      "text/plain": [
       "array([0.5, 1. , 1.5, 2. ])"
      ]
     },
     "execution_count": 6,
     "metadata": {},
     "output_type": "execute_result"
    }
   ],
   "source": [
    "a/2\n",
    "\n",
    "# divide each elements by 2"
   ]
  },
  {
   "cell_type": "code",
   "execution_count": 7,
   "id": "03e495b6",
   "metadata": {},
   "outputs": [
    {
     "data": {
      "text/plain": [
       "array([3, 4, 5, 6])"
      ]
     },
     "execution_count": 7,
     "metadata": {},
     "output_type": "execute_result"
    }
   ],
   "source": [
    "a += 2\n",
    "a\n",
    "\n",
    "# This is going to give the same values as 'a + 2'...\n",
    "# just that it will save it to var 'a' unlike the previous one which does...\n",
    "# ...only the calculations and not save inplace"
   ]
  },
  {
   "cell_type": "code",
   "execution_count": 8,
   "id": "ee5d7b7c",
   "metadata": {},
   "outputs": [
    {
     "data": {
      "text/plain": [
       "array([4, 4, 6, 6])"
      ]
     },
     "execution_count": 8,
     "metadata": {},
     "output_type": "execute_result"
    }
   ],
   "source": [
    "b = np.array([1, 0, 1, 0])\n",
    "a + b\n",
    "\n",
    "# adds each values of a[3, 4, 5, 6] to each values of 'b'\n",
    "# we are talking \n",
    "# ...[1+3, 0+4, 1+5, 0+6]"
   ]
  },
  {
   "cell_type": "code",
   "execution_count": 9,
   "id": "b41be4b6",
   "metadata": {},
   "outputs": [
    {
     "data": {
      "text/plain": [
       "array([ 9, 16, 25, 36], dtype=int32)"
      ]
     },
     "execution_count": 9,
     "metadata": {},
     "output_type": "execute_result"
    }
   ],
   "source": [
    "a ** 2\n",
    "\n",
    "# The power calculation i.e a raised to the power of 2...\n",
    "# ...each values of a[3, 4, 5, 6] raised to the power of 2"
   ]
  },
  {
   "cell_type": "code",
   "execution_count": 10,
   "id": "61d9cd32",
   "metadata": {},
   "outputs": [
    {
     "data": {
      "text/plain": [
       "array([ 0.14112001, -0.7568025 , -0.95892427, -0.2794155 ])"
      ]
     },
     "execution_count": 10,
     "metadata": {},
     "output_type": "execute_result"
    }
   ],
   "source": [
    "np.sin(a)\n",
    "\n",
    "# Take sine of all values :)"
   ]
  },
  {
   "cell_type": "code",
   "execution_count": 11,
   "id": "1d2ad6e2",
   "metadata": {},
   "outputs": [
    {
     "data": {
      "text/plain": [
       "array([-0.9899925 , -0.65364362,  0.28366219,  0.96017029])"
      ]
     },
     "execution_count": 11,
     "metadata": {},
     "output_type": "execute_result"
    }
   ],
   "source": [
    "np.cos(a)\n",
    "\n",
    "# Take the cos, sin, and even tan"
   ]
  },
  {
   "cell_type": "code",
   "execution_count": null,
   "id": "62c655cf",
   "metadata": {},
   "outputs": [],
   "source": []
  }
 ],
 "metadata": {
  "kernelspec": {
   "display_name": "Python 3 (ipykernel)",
   "language": "python",
   "name": "python3"
  },
  "language_info": {
   "codemirror_mode": {
    "name": "ipython",
    "version": 3
   },
   "file_extension": ".py",
   "mimetype": "text/x-python",
   "name": "python",
   "nbconvert_exporter": "python",
   "pygments_lexer": "ipython3",
   "version": "3.9.12"
  }
 },
 "nbformat": 4,
 "nbformat_minor": 5
}
