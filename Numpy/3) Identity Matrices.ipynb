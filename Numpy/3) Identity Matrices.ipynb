{
 "cells": [
  {
   "cell_type": "code",
   "execution_count": 1,
   "id": "133544a4",
   "metadata": {},
   "outputs": [],
   "source": [
    "import numpy as np"
   ]
  },
  {
   "cell_type": "code",
   "execution_count": 2,
   "id": "3ebbe888",
   "metadata": {},
   "outputs": [],
   "source": [
    "a = np.array([1, 2, 3])\n",
    "b = np.array([[9.0, 8.0, 7.0], [6.0, 5.0, 4.0]]) "
   ]
  },
  {
   "cell_type": "code",
   "execution_count": 3,
   "id": "5bbc127b",
   "metadata": {},
   "outputs": [
    {
     "data": {
      "text/plain": [
       "array([[0., 0.],\n",
       "       [0., 0.]])"
      ]
     },
     "execution_count": 3,
     "metadata": {},
     "output_type": "execute_result"
    }
   ],
   "source": [
    "np.zeros((2, 2))\n",
    "\n",
    "#All 0's Matrix\n",
    "# Using the built in function '.zeros'"
   ]
  },
  {
   "cell_type": "code",
   "execution_count": 4,
   "id": "f611b2cb",
   "metadata": {},
   "outputs": [
    {
     "data": {
      "text/plain": [
       "array([[[1., 1.],\n",
       "        [1., 1.]],\n",
       "\n",
       "       [[1., 1.],\n",
       "        [1., 1.]],\n",
       "\n",
       "       [[1., 1.],\n",
       "        [1., 1.]],\n",
       "\n",
       "       [[1., 1.],\n",
       "        [1., 1.]]])"
      ]
     },
     "execution_count": 4,
     "metadata": {},
     "output_type": "execute_result"
    }
   ],
   "source": [
    "np.ones((4, 2, 2))\n",
    "\n",
    "# All one's matrix\n",
    "# ((rows, how_many_columns_per_row , how_many_columns_in_total))"
   ]
  },
  {
   "cell_type": "code",
   "execution_count": 5,
   "id": "2feefe96",
   "metadata": {},
   "outputs": [
    {
     "data": {
      "text/plain": [
       "array([[[1., 1., 1.],\n",
       "        [1., 1., 1.]],\n",
       "\n",
       "       [[1., 1., 1.],\n",
       "        [1., 1., 1.]],\n",
       "\n",
       "       [[1., 1., 1.],\n",
       "        [1., 1., 1.]],\n",
       "\n",
       "       [[1., 1., 1.],\n",
       "        [1., 1., 1.]],\n",
       "\n",
       "       [[1., 1., 1.],\n",
       "        [1., 1., 1.]],\n",
       "\n",
       "       [[1., 1., 1.],\n",
       "        [1., 1., 1.]]])"
      ]
     },
     "execution_count": 5,
     "metadata": {},
     "output_type": "execute_result"
    }
   ],
   "source": [
    "np.ones((6, 2, 3))\n",
    "\n",
    "# Specifying the ROWS, rows per each ROW and columns "
   ]
  },
  {
   "cell_type": "code",
   "execution_count": 6,
   "id": "98ea1aa6",
   "metadata": {},
   "outputs": [
    {
     "data": {
      "text/plain": [
       "array([[99, 99],\n",
       "       [99, 99]])"
      ]
     },
     "execution_count": 6,
     "metadata": {},
     "output_type": "execute_result"
    }
   ],
   "source": [
    "np.full((2,2), 99) \n",
    "\n",
    "# Any other number Matrix- Specify the value wanted\n",
    "#((row, column), values)"
   ]
  },
  {
   "cell_type": "code",
   "execution_count": 7,
   "id": "d9fab7a9",
   "metadata": {},
   "outputs": [
    {
     "data": {
      "text/plain": [
       "array([[77., 77.],\n",
       "       [77., 77.],\n",
       "       [77., 77.]])"
      ]
     },
     "execution_count": 7,
     "metadata": {},
     "output_type": "execute_result"
    }
   ],
   "source": [
    "np.full((3, 2),  77, dtype = 'float64')\n",
    "\n",
    "# You can as well specify the data type"
   ]
  },
  {
   "cell_type": "code",
   "execution_count": 8,
   "id": "9d98fd93",
   "metadata": {},
   "outputs": [
    {
     "data": {
      "text/plain": [
       "array([44, 44, 44])"
      ]
     },
     "execution_count": 8,
     "metadata": {},
     "output_type": "execute_result"
    }
   ],
   "source": [
    "np.full(a.shape, 44) \n",
    "\n",
    "# Any other number (full) while trying to use the shape of another array\n",
    "# (arary_Shape_we_are_using, the value we want to pass in)"
   ]
  },
  {
   "cell_type": "code",
   "execution_count": 9,
   "id": "fa28bd1b",
   "metadata": {},
   "outputs": [
    {
     "data": {
      "text/plain": [
       "array([6, 6, 6])"
      ]
     },
     "execution_count": 9,
     "metadata": {},
     "output_type": "execute_result"
    }
   ],
   "source": [
    "np.full(a.shape, 55)\n",
    "# OR\n",
    "np.full_like(a, 6)\n",
    "\n",
    "# This 2 would give the same result"
   ]
  },
  {
   "cell_type": "code",
   "execution_count": 10,
   "id": "57d2d07f",
   "metadata": {},
   "outputs": [
    {
     "data": {
      "text/plain": [
       "array([[[0.15161218, 0.23220142, 0.90393372],\n",
       "        [0.73957311, 0.01508375, 0.59033785]],\n",
       "\n",
       "       [[0.14287141, 0.69471146, 0.36082567],\n",
       "        [0.38691617, 0.83437049, 0.09274924]],\n",
       "\n",
       "       [[0.56456939, 0.86828259, 0.02418361],\n",
       "        [0.01399229, 0.22665058, 0.02349943]],\n",
       "\n",
       "       [[0.78437729, 0.01586011, 0.94611866],\n",
       "        [0.64436719, 0.03248195, 0.18459602]]])"
      ]
     },
     "execution_count": 10,
     "metadata": {},
     "output_type": "execute_result"
    }
   ],
   "source": [
    "np.random.rand(4, 2, 3)\n",
    "\n",
    "# Using the 'random' method\n",
    "# Initializing an array of random decimal numbers"
   ]
  },
  {
   "cell_type": "code",
   "execution_count": 11,
   "id": "150da4de",
   "metadata": {},
   "outputs": [
    {
     "data": {
      "text/plain": [
       "array([[3, 3, 3],\n",
       "       [5, 5, 2],\n",
       "       [4, 7, 6]])"
      ]
     },
     "execution_count": 11,
     "metadata": {},
     "output_type": "execute_result"
    }
   ],
   "source": [
    "np.random.randint(2, 8, size = (3,3))\n",
    "\n",
    "# Initializing an array of Integer values\n",
    "# (all numbers except for the number written, and the size of the (r, c))"
   ]
  },
  {
   "cell_type": "code",
   "execution_count": 12,
   "id": "6858bf56",
   "metadata": {},
   "outputs": [
    {
     "data": {
      "text/plain": [
       "array([[1., 0., 0.],\n",
       "       [0., 1., 0.],\n",
       "       [0., 0., 1.]])"
      ]
     },
     "execution_count": 12,
     "metadata": {},
     "output_type": "execute_result"
    }
   ],
   "source": [
    "np.identity(3)\n",
    "\n",
    "# Creating an identity matrix\n",
    "# This only needs one parameter"
   ]
  },
  {
   "cell_type": "code",
   "execution_count": 13,
   "id": "c5496143",
   "metadata": {},
   "outputs": [
    {
     "name": "stdout",
     "output_type": "stream",
     "text": [
      "[1 1 1 2 2 2 3 3 3]\n"
     ]
    }
   ],
   "source": [
    "arr = np.array([1,2,3])\n",
    "r1 = np.repeat(arr, 3)\n",
    "print(r1)\n",
    "\n",
    "# Repeating an array\n",
    "# To make it print in format '1,2,3- 1,2,3' we will use the axis method"
   ]
  },
  {
   "cell_type": "code",
   "execution_count": 14,
   "id": "ce84d83a",
   "metadata": {},
   "outputs": [
    {
     "name": "stdout",
     "output_type": "stream",
     "text": [
      "[[1 2 3]\n",
      " [1 2 3]\n",
      " [1 2 3]]\n"
     ]
    }
   ],
   "source": [
    "arr = np.array([[1,2,3]])\n",
    "r1 = np.repeat(arr, 3, axis = 0)\n",
    "print(r1)\n",
    "\n",
    "# if we also need to make it a 2 dimensional array"
   ]
  },
  {
   "cell_type": "code",
   "execution_count": 15,
   "id": "f9f22f3f",
   "metadata": {},
   "outputs": [
    {
     "name": "stdout",
     "output_type": "stream",
     "text": [
      "[[1. 1. 1. 1. 1.]\n",
      " [1. 1. 1. 1. 1.]\n",
      " [1. 1. 1. 1. 1.]\n",
      " [1. 1. 1. 1. 1.]\n",
      " [1. 1. 1. 1. 1.]]\n"
     ]
    }
   ],
   "source": [
    "output = np.ones((5, 5))\n",
    "print(output)\n",
    "\n",
    "# Assigning an identity matrix to a variable"
   ]
  },
  {
   "cell_type": "code",
   "execution_count": 16,
   "id": "ed9542b8",
   "metadata": {},
   "outputs": [
    {
     "name": "stdout",
     "output_type": "stream",
     "text": [
      "[[0. 0. 0.]\n",
      " [0. 9. 0.]\n",
      " [0. 0. 0.]]\n"
     ]
    }
   ],
   "source": [
    "z = np.zeros((3,3))\n",
    "z[1,1] = 9\n",
    "print(z)\n",
    "\n",
    "# Assigning an identity matrix to a variable\n",
    "# While assigning the value at [1, 1] to be equal to 9"
   ]
  },
  {
   "cell_type": "code",
   "execution_count": 17,
   "id": "c25cfc75",
   "metadata": {},
   "outputs": [
    {
     "name": "stdout",
     "output_type": "stream",
     "text": [
      "[[1. 1. 1. 1. 1.]\n",
      " [1. 0. 0. 0. 1.]\n",
      " [1. 0. 9. 0. 1.]\n",
      " [1. 0. 0. 0. 1.]\n",
      " [1. 1. 1. 1. 1.]]\n"
     ]
    }
   ],
   "source": [
    "output[1:4, 1:4] = z \n",
    "print(output)\n",
    "\n",
    "# Picking particular rows and columns and assigning them to variable 'z'\n",
    "# output[specify the rows, which is from 1 to 4 excluding 4th row, same thing with column]"
   ]
  },
  {
   "cell_type": "markdown",
   "id": "7d9daaea",
   "metadata": {},
   "source": [
    "#### Be careful when copying arrays"
   ]
  },
  {
   "cell_type": "code",
   "execution_count": 18,
   "id": "2dd90706",
   "metadata": {},
   "outputs": [
    {
     "data": {
      "text/plain": [
       "array([[False, False, False],\n",
       "       [False, False, False]])"
      ]
     },
     "execution_count": 18,
     "metadata": {},
     "output_type": "execute_result"
    }
   ],
   "source": [
    "a = np.array([1, 2, 3])\n",
    "b == a\n",
    "\n",
    "# You shouldn't assign them to the same memory storage e.g 'b = a', instead let them have the same values 'b == a'"
   ]
  },
  {
   "cell_type": "code",
   "execution_count": 19,
   "id": "61e887ca",
   "metadata": {},
   "outputs": [
    {
     "data": {
      "text/plain": [
       "array([[100., 100., 100.],\n",
       "       [  6.,   5.,   4.]])"
      ]
     },
     "execution_count": 19,
     "metadata": {},
     "output_type": "execute_result"
    }
   ],
   "source": [
    "b[0] = 100\n",
    "b"
   ]
  },
  {
   "cell_type": "code",
   "execution_count": 20,
   "id": "3be4b065",
   "metadata": {},
   "outputs": [
    {
     "name": "stdout",
     "output_type": "stream",
     "text": [
      "[ 1 65  3]\n",
      "[1 2 3]\n"
     ]
    }
   ],
   "source": [
    "b = a.copy() # This copies the contents of a\n",
    "b[1] = 65   # 'b' has the same values as 'a' using the '.copy()' method, here we are changing the value at the index[1] to '65'\n",
    "print(b)\n",
    "print(a)"
   ]
  },
  {
   "cell_type": "markdown",
   "id": "116704f6",
   "metadata": {},
   "source": [
    "### Modify the array as much as you can before you move to the next notebook"
   ]
  }
 ],
 "metadata": {
  "kernelspec": {
   "display_name": "Python 3 (ipykernel)",
   "language": "python",
   "name": "python3"
  },
  "language_info": {
   "codemirror_mode": {
    "name": "ipython",
    "version": 3
   },
   "file_extension": ".py",
   "mimetype": "text/x-python",
   "name": "python",
   "nbconvert_exporter": "python",
   "pygments_lexer": "ipython3",
   "version": "3.9.12"
  }
 },
 "nbformat": 4,
 "nbformat_minor": 5
}
