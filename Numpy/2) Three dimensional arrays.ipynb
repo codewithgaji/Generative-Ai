{
 "cells": [
  {
   "cell_type": "code",
   "execution_count": 1,
   "id": "f1f5a3bf",
   "metadata": {},
   "outputs": [],
   "source": [
    "import numpy as np"
   ]
  },
  {
   "cell_type": "markdown",
   "id": "123e3103",
   "metadata": {},
   "source": [
    "3d Examples"
   ]
  },
  {
   "cell_type": "code",
   "execution_count": 12,
   "id": "4e5e7def",
   "metadata": {},
   "outputs": [],
   "source": [
    "# using this amount of square brackets '[[]]'...\n",
    "# and then splitting the arrays\n",
    "\n",
    "b = np.array([[[1,2], [3,4]], [[5,6], [7,8]]])"
   ]
  },
  {
   "cell_type": "code",
   "execution_count": 14,
   "id": "c8415e20",
   "metadata": {},
   "outputs": [
    {
     "name": "stdout",
     "output_type": "stream",
     "text": [
      "[[[1 2]\n",
      "  [3 4]]\n",
      "\n",
      " [[5 6]\n",
      "  [7 8]]]\n"
     ]
    }
   ],
   "source": [
    "print(b)\n",
    "\n",
    "\n",
    "# in the 'print' function you can see that we have 2 distinct rows...\n",
    "\n",
    "# let's call this: ([1, 2], \n",
    "#                  [3, 4])  ROW 1\n",
    "\n",
    "\n",
    "# let's call this: ([5, 6]\n",
    "#                  [7, 8]) ROW 2"
   ]
  },
  {
   "cell_type": "code",
   "execution_count": 11,
   "id": "a45d2a19",
   "metadata": {},
   "outputs": [
    {
     "data": {
      "text/plain": [
       "(2, 2, 2)"
      ]
     },
     "execution_count": 11,
     "metadata": {},
     "output_type": "execute_result"
    }
   ],
   "source": [
    "b.shape\n",
    "\n",
    "\n",
    "# This is used to get the shape of the array...\n",
    "# ...in which in this case is (2, 2, 2)....\n",
    "# which means (2 distinct rows, 2 rows in eaach \"total first & second\" rows, 2 columns in all rows )"
   ]
  },
  {
   "cell_type": "code",
   "execution_count": 17,
   "id": "3bfcd880",
   "metadata": {},
   "outputs": [
    {
     "data": {
      "text/plain": [
       "4"
      ]
     },
     "execution_count": 17,
     "metadata": {},
     "output_type": "execute_result"
    }
   ],
   "source": [
    "b[0,1, 1]\n",
    "\n",
    "#Get specific element(work outside in)\n",
    "# The '0' is to pick ROW 1, the '1' is to pick the 2nd row in ROW 1\n",
    "#The other '1' is to pick the value in the 2nd row [3, '4']"
   ]
  },
  {
   "cell_type": "code",
   "execution_count": 18,
   "id": "a41b1d98",
   "metadata": {},
   "outputs": [
    {
     "data": {
      "text/plain": [
       "5"
      ]
     },
     "execution_count": 18,
     "metadata": {},
     "output_type": "execute_result"
    }
   ],
   "source": [
    "b[1, 0, 0]\n",
    "\n",
    "# this time we are getting the ROW 2, then the first row in the ROW 2\n",
    "# ....then the first value of that row(following 'indexing' rule in python)"
   ]
  },
  {
   "cell_type": "code",
   "execution_count": 19,
   "id": "3a763301",
   "metadata": {},
   "outputs": [
    {
     "data": {
      "text/plain": [
       "array([[3, 4],\n",
       "       [7, 8]])"
      ]
     },
     "execution_count": 19,
     "metadata": {},
     "output_type": "execute_result"
    }
   ],
   "source": [
    "# This [:] shows that i want to pick ROW 1 & ROW 2...\n",
    "# ... then the second [1] row of the two ROWS, ([3,4]) and (7, 8)\n",
    "b[:, 1, :]"
   ]
  },
  {
   "cell_type": "code",
   "execution_count": 20,
   "id": "1e110231",
   "metadata": {},
   "outputs": [],
   "source": [
    "b[:, 1, :] = [[9,9], [8,8]]\n",
    "\n",
    "# Replacing the values of the array...\n",
    "# ensuring the new values we are setting matches the rows/columns we are picking \n",
    "# in this case we are picking the rows from the above cell and....\n",
    "# replacing their values with \"[[9,9], [8,8]]\""
   ]
  },
  {
   "cell_type": "code",
   "execution_count": 22,
   "id": "e25892fc",
   "metadata": {},
   "outputs": [
    {
     "data": {
      "text/plain": [
       "array([[[1, 2],\n",
       "        [9, 9]],\n",
       "\n",
       "       [[5, 6],\n",
       "        [8, 8]]])"
      ]
     },
     "execution_count": 22,
     "metadata": {},
     "output_type": "execute_result"
    }
   ],
   "source": [
    "b\n",
    "\n",
    "# Now if we call the array 'b' you will notice...\n",
    "# that the values of the second rows in ROW 1 & 2 have changed"
   ]
  },
  {
   "cell_type": "markdown",
   "id": "11cccc64",
   "metadata": {},
   "source": [
    "### Modify the array has much as you want to fully understand it before moving to the next notebook..."
   ]
  }
 ],
 "metadata": {
  "kernelspec": {
   "display_name": "Python 3 (ipykernel)",
   "language": "python",
   "name": "python3"
  },
  "language_info": {
   "codemirror_mode": {
    "name": "ipython",
    "version": 3
   },
   "file_extension": ".py",
   "mimetype": "text/x-python",
   "name": "python",
   "nbconvert_exporter": "python",
   "pygments_lexer": "ipython3",
   "version": "3.9.12"
  }
 },
 "nbformat": 4,
 "nbformat_minor": 5
}
