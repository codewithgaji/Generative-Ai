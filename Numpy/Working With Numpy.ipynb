{
 "cells": [
  {
   "cell_type": "markdown",
   "id": "af8c8643",
   "metadata": {},
   "source": [
    "# Working with Numpy"
   ]
  },
  {
   "cell_type": "code",
   "execution_count": 1,
   "id": "f8f51512",
   "metadata": {},
   "outputs": [],
   "source": [
    "import numpy as np"
   ]
  },
  {
   "cell_type": "markdown",
   "id": "3c4cff72",
   "metadata": {},
   "source": [
    "The Basics"
   ]
  },
  {
   "cell_type": "code",
   "execution_count": 2,
   "id": "7cdd02b6",
   "metadata": {},
   "outputs": [
    {
     "name": "stdout",
     "output_type": "stream",
     "text": [
      "[1 2 3]\n"
     ]
    }
   ],
   "source": [
    "a = np.array([1, 2, 3]) # This is a 1d array\n",
    "print(a)"
   ]
  },
  {
   "cell_type": "code",
   "execution_count": 3,
   "id": "b953f5f5",
   "metadata": {},
   "outputs": [
    {
     "name": "stdout",
     "output_type": "stream",
     "text": [
      "[[9. 8. 7.]\n",
      " [6. 5. 4.]]\n"
     ]
    }
   ],
   "source": [
    "b = np.array([[9.0, 8.0, 7.0], [6.0, 5.0, 4.0]]) #This is a 2 dimensional array\n",
    "print(b)"
   ]
  },
  {
   "cell_type": "code",
   "execution_count": 4,
   "id": "78fc2143",
   "metadata": {},
   "outputs": [
    {
     "data": {
      "text/plain": [
       "1"
      ]
     },
     "execution_count": 4,
     "metadata": {},
     "output_type": "execute_result"
    }
   ],
   "source": [
    "# This tells us the dimension of an array\n",
    "a.ndim"
   ]
  },
  {
   "cell_type": "code",
   "execution_count": 5,
   "id": "8919babf",
   "metadata": {},
   "outputs": [
    {
     "data": {
      "text/plain": [
       "2"
      ]
     },
     "execution_count": 5,
     "metadata": {},
     "output_type": "execute_result"
    }
   ],
   "source": [
    "b.ndim # This means (n) number of (dim) dimensional arrays"
   ]
  },
  {
   "cell_type": "code",
   "execution_count": 6,
   "id": "99204517",
   "metadata": {},
   "outputs": [
    {
     "data": {
      "text/plain": [
       "(3,)"
      ]
     },
     "execution_count": 6,
     "metadata": {},
     "output_type": "execute_result"
    }
   ],
   "source": [
    "# Get shape, This tells us the amount of rows and columns in an array\n",
    "a.shape"
   ]
  },
  {
   "cell_type": "code",
   "execution_count": 7,
   "id": "826648fc",
   "metadata": {},
   "outputs": [
    {
     "data": {
      "text/plain": [
       "(2, 3)"
      ]
     },
     "execution_count": 7,
     "metadata": {},
     "output_type": "execute_result"
    }
   ],
   "source": [
    "b.shape # This tells us we have 2 rows and 3 columns"
   ]
  },
  {
   "cell_type": "code",
   "execution_count": 8,
   "id": "e28248f9",
   "metadata": {},
   "outputs": [
    {
     "data": {
      "text/plain": [
       "dtype('int32')"
      ]
     },
     "execution_count": 8,
     "metadata": {},
     "output_type": "execute_result"
    }
   ],
   "source": [
    "# Get type this tells us the type of data it is, best to specify the dtype to save space\n",
    "a.dtype"
   ]
  },
  {
   "cell_type": "code",
   "execution_count": 9,
   "id": "38beb3ea",
   "metadata": {},
   "outputs": [
    {
     "data": {
      "text/plain": [
       "4"
      ]
     },
     "execution_count": 9,
     "metadata": {},
     "output_type": "execute_result"
    }
   ],
   "source": [
    "# To get size \n",
    "a.itemsize"
   ]
  },
  {
   "cell_type": "code",
   "execution_count": 10,
   "id": "20dd7016",
   "metadata": {},
   "outputs": [
    {
     "data": {
      "text/plain": [
       "8"
      ]
     },
     "execution_count": 10,
     "metadata": {},
     "output_type": "execute_result"
    }
   ],
   "source": [
    "#Float sizes are bigger than integers\n",
    "b.itemsize"
   ]
  },
  {
   "cell_type": "code",
   "execution_count": 11,
   "id": "e3f9e6f9",
   "metadata": {},
   "outputs": [
    {
     "data": {
      "text/plain": [
       "3"
      ]
     },
     "execution_count": 11,
     "metadata": {},
     "output_type": "execute_result"
    }
   ],
   "source": [
    "# To get total values\n",
    "a.size"
   ]
  },
  {
   "cell_type": "code",
   "execution_count": 12,
   "id": "8be8f89f",
   "metadata": {},
   "outputs": [
    {
     "data": {
      "text/plain": [
       "12"
      ]
     },
     "execution_count": 12,
     "metadata": {},
     "output_type": "execute_result"
    }
   ],
   "source": [
    "#To get  total size is:\n",
    "a.nbytes"
   ]
  },
  {
   "cell_type": "markdown",
   "id": "65901c5a",
   "metadata": {},
   "source": [
    "Accessing/Changing specific elements in rows,columns,etc"
   ]
  },
  {
   "cell_type": "code",
   "execution_count": 13,
   "id": "bff85657",
   "metadata": {},
   "outputs": [
    {
     "name": "stdout",
     "output_type": "stream",
     "text": [
      "[[ 1  2  3  4  5  6  7]\n",
      " [ 8  9 10 11 12 13 14]]\n"
     ]
    }
   ],
   "source": [
    "a = np.array([[1,2,3,4,5,6,7], [8,9,10,11,12,13,14]]) # This is a 2 by 7 array\n",
    "print(a)"
   ]
  },
  {
   "cell_type": "code",
   "execution_count": 14,
   "id": "1dd8dfae",
   "metadata": {},
   "outputs": [
    {
     "data": {
      "text/plain": [
       "(2, 7)"
      ]
     },
     "execution_count": 14,
     "metadata": {},
     "output_type": "execute_result"
    }
   ],
   "source": [
    "a.shape"
   ]
  },
  {
   "cell_type": "code",
   "execution_count": 15,
   "id": "1b988d9d",
   "metadata": {},
   "outputs": [
    {
     "data": {
      "text/plain": [
       "13"
      ]
     },
     "execution_count": 15,
     "metadata": {},
     "output_type": "execute_result"
    }
   ],
   "source": [
    "#Getting a specific element using [r, c]\n",
    "a[1, -2] or a[1, 5] # You can use both posiive and negative indexing"
   ]
  },
  {
   "cell_type": "code",
   "execution_count": 16,
   "id": "70f0e37c",
   "metadata": {},
   "outputs": [
    {
     "data": {
      "text/plain": [
       "array([1, 2, 3, 4, 5, 6, 7])"
      ]
     },
     "execution_count": 16,
     "metadata": {},
     "output_type": "execute_result"
    }
   ],
   "source": [
    "# Getting a specific row\n",
    "a[0, : ] # We use slice just like in lists"
   ]
  },
  {
   "cell_type": "code",
   "execution_count": 17,
   "id": "e8841ec7",
   "metadata": {},
   "outputs": [
    {
     "data": {
      "text/plain": [
       "array([ 3, 10])"
      ]
     },
     "execution_count": 17,
     "metadata": {},
     "output_type": "execute_result"
    }
   ],
   "source": [
    "# Getting a specific column\n",
    "a[:, 2]# This ':,' will get all the rows and then you specify the column"
   ]
  },
  {
   "cell_type": "code",
   "execution_count": 18,
   "id": "a78b2fef",
   "metadata": {},
   "outputs": [
    {
     "data": {
      "text/plain": [
       "array([2, 4, 6])"
      ]
     },
     "execution_count": 18,
     "metadata": {},
     "output_type": "execute_result"
    }
   ],
   "source": [
    "# Getting a little more fancy [startindex:endindex:stepsize]\n",
    "a[0, 1: 6:2] # The '0' will get me the first row, the '1:' is to start from the second elemnt\n",
    "# The '6:' will get me all elements up to the 6th index, excluding the 6th index\n",
    "# Which means it will be getting me from 1,which is '2' to 6, which is '6'\n",
    "#the ':2' is a \"STEP\" just like in lists to pring \"2,4,6\" of the first row"
   ]
  },
  {
   "cell_type": "code",
   "execution_count": 19,
   "id": "5c7d47a2",
   "metadata": {},
   "outputs": [
    {
     "data": {
      "text/plain": [
       "array([ 8, 10, 12])"
      ]
     },
     "execution_count": 19,
     "metadata": {},
     "output_type": "execute_result"
    }
   ],
   "source": [
    "a[1, 0:6 :2] # This takes the second row, then initialize the index start and end\n",
    "# then initialize the 'Step'"
   ]
  },
  {
   "cell_type": "code",
   "execution_count": 20,
   "id": "c06ab631",
   "metadata": {},
   "outputs": [
    {
     "name": "stdout",
     "output_type": "stream",
     "text": [
      "[[ 1  2  3  4  5  6  7]\n",
      " [ 8  9 10 11 12 20 14]]\n"
     ]
    }
   ],
   "source": [
    "# Changing values in an array, first initialize the row, and column\n",
    "a[1, 5] = 20\n",
    "print(a) # This shows the value of '13' has been changed to '20'"
   ]
  },
  {
   "cell_type": "code",
   "execution_count": 21,
   "id": "388c519b",
   "metadata": {},
   "outputs": [
    {
     "name": "stdout",
     "output_type": "stream",
     "text": [
      "[[ 1  2  5  4  5  6  7]\n",
      " [ 8  9  5 11 12 20 14]]\n"
     ]
    }
   ],
   "source": [
    "#Changing series of values in an array\n",
    "a[:, 2] = 5\n",
    "print(a) # This shows the values of that 'Column' has changed"
   ]
  },
  {
   "cell_type": "code",
   "execution_count": 22,
   "id": "efbc11f2",
   "metadata": {},
   "outputs": [
    {
     "name": "stdout",
     "output_type": "stream",
     "text": [
      "[[ 1  2  1  4  5  6  7]\n",
      " [ 8  9  2 11 12 20 14]]\n"
     ]
    }
   ],
   "source": [
    "a[:, 2] = [1,2]\n",
    "print(a) # This will specify and change the values of the column"
   ]
  },
  {
   "cell_type": "code",
   "execution_count": 23,
   "id": "e6a75d7a",
   "metadata": {},
   "outputs": [
    {
     "name": "stdout",
     "output_type": "stream",
     "text": [
      "[[ 1  2  1  4  5  6  7]\n",
      " [ 8  9  2 11 12 20 14]]\n"
     ]
    }
   ],
   "source": [
    "print(a)"
   ]
  },
  {
   "cell_type": "code",
   "execution_count": 24,
   "id": "0f7f7b32",
   "metadata": {},
   "outputs": [
    {
     "name": "stdout",
     "output_type": "stream",
     "text": [
      "[[ 1  2  1  4  5  6  7]\n",
      " [ 8  9  2 11 99 20 14]]\n"
     ]
    }
   ],
   "source": [
    "a[1:, 4] = 99\n",
    "print(a)"
   ]
  },
  {
   "cell_type": "code",
   "execution_count": 25,
   "id": "31917433",
   "metadata": {},
   "outputs": [
    {
     "data": {
      "text/plain": [
       "14"
      ]
     },
     "execution_count": 25,
     "metadata": {},
     "output_type": "execute_result"
    }
   ],
   "source": [
    "a.size"
   ]
  },
  {
   "cell_type": "code",
   "execution_count": 26,
   "id": "7794c221",
   "metadata": {},
   "outputs": [
    {
     "data": {
      "text/plain": [
       "4"
      ]
     },
     "execution_count": 26,
     "metadata": {},
     "output_type": "execute_result"
    }
   ],
   "source": [
    "a.itemsize"
   ]
  },
  {
   "cell_type": "code",
   "execution_count": 27,
   "id": "309fc583",
   "metadata": {},
   "outputs": [
    {
     "data": {
      "text/plain": [
       "56"
      ]
     },
     "execution_count": 27,
     "metadata": {},
     "output_type": "execute_result"
    }
   ],
   "source": [
    "a.nbytes"
   ]
  },
  {
   "cell_type": "code",
   "execution_count": 28,
   "id": "c9145d52",
   "metadata": {},
   "outputs": [
    {
     "data": {
      "text/plain": [
       "(2, 7)"
      ]
     },
     "execution_count": 28,
     "metadata": {},
     "output_type": "execute_result"
    }
   ],
   "source": [
    "a.shape"
   ]
  },
  {
   "cell_type": "markdown",
   "id": "f6681238",
   "metadata": {},
   "source": [
    "3d Example"
   ]
  },
  {
   "cell_type": "code",
   "execution_count": 29,
   "id": "71c4a042",
   "metadata": {},
   "outputs": [
    {
     "name": "stdout",
     "output_type": "stream",
     "text": [
      "[[[1 2]\n",
      "  [3 4]]\n",
      "\n",
      " [[5 6]\n",
      "  [7 8]]]\n"
     ]
    }
   ],
   "source": [
    "b = np.array([[[1,2], [3,4]], [[5,6], [7,8]]])# It seems 3d arrays are always\n",
    "# using '[[]]' this amount of square brackets\n",
    "print(b)"
   ]
  },
  {
   "cell_type": "code",
   "execution_count": 30,
   "id": "1c156960",
   "metadata": {},
   "outputs": [
    {
     "data": {
      "text/plain": [
       "(2, 2, 2)"
      ]
     },
     "execution_count": 30,
     "metadata": {},
     "output_type": "execute_result"
    }
   ],
   "source": [
    "b.shape"
   ]
  },
  {
   "cell_type": "code",
   "execution_count": 31,
   "id": "4da8a23b",
   "metadata": {},
   "outputs": [
    {
     "data": {
      "text/plain": [
       "4"
      ]
     },
     "execution_count": 31,
     "metadata": {},
     "output_type": "execute_result"
    }
   ],
   "source": [
    "#Get specific element(work outside in)\n",
    "b[0,1, 1] # The '0' is to pick the first 2 rows, the '1' is to pick the 2nd row\n",
    "#The other '1' is to pick the value in the 2nd row"
   ]
  },
  {
   "cell_type": "code",
   "execution_count": 32,
   "id": "51fecf90",
   "metadata": {},
   "outputs": [
    {
     "data": {
      "text/plain": [
       "5"
      ]
     },
     "execution_count": 32,
     "metadata": {},
     "output_type": "execute_result"
    }
   ],
   "source": [
    "b[1, 0, 0]"
   ]
  },
  {
   "cell_type": "code",
   "execution_count": 33,
   "id": "96a200f1",
   "metadata": {},
   "outputs": [
    {
     "data": {
      "text/plain": [
       "array([[3, 4],\n",
       "       [7, 8]])"
      ]
     },
     "execution_count": 33,
     "metadata": {},
     "output_type": "execute_result"
    }
   ],
   "source": [
    "b[:, 1, :] # This shows that i want to print the second row of the 2 distinct rows"
   ]
  },
  {
   "cell_type": "code",
   "execution_count": 34,
   "id": "a5407088",
   "metadata": {},
   "outputs": [],
   "source": [
    "# Replacing the values of the array\n",
    "b[:, 1, :] = [[9,9], [8,8]]\n"
   ]
  },
  {
   "cell_type": "markdown",
   "id": "9bb0fe3f",
   "metadata": {},
   "source": [
    "Initializing Differrent Types of Arrays"
   ]
  },
  {
   "cell_type": "code",
   "execution_count": 35,
   "id": "50e20397",
   "metadata": {},
   "outputs": [
    {
     "data": {
      "text/plain": [
       "array([[0., 0.],\n",
       "       [0., 0.]])"
      ]
     },
     "execution_count": 35,
     "metadata": {},
     "output_type": "execute_result"
    }
   ],
   "source": [
    "#All 0's Matrix\n",
    "np.zeros((2, 2)) # Using the built in function '.zeros'"
   ]
  },
  {
   "cell_type": "code",
   "execution_count": 36,
   "id": "277abc3a",
   "metadata": {},
   "outputs": [
    {
     "data": {
      "text/plain": [
       "array([[[1., 1.],\n",
       "        [1., 1.]],\n",
       "\n",
       "       [[1., 1.],\n",
       "        [1., 1.]],\n",
       "\n",
       "       [[1., 1.],\n",
       "        [1., 1.]],\n",
       "\n",
       "       [[1., 1.],\n",
       "        [1., 1.]]])"
      ]
     },
     "execution_count": 36,
     "metadata": {},
     "output_type": "execute_result"
    }
   ],
   "source": [
    "#All one's matrix\n",
    "np.ones((4, 2, 2)) # ((rows, how_many_columns_per_row , how_many_columns_in_total))"
   ]
  },
  {
   "cell_type": "code",
   "execution_count": 37,
   "id": "52216700",
   "metadata": {},
   "outputs": [
    {
     "data": {
      "text/plain": [
       "array([[[1., 1., 1.],\n",
       "        [1., 1., 1.]],\n",
       "\n",
       "       [[1., 1., 1.],\n",
       "        [1., 1., 1.]],\n",
       "\n",
       "       [[1., 1., 1.],\n",
       "        [1., 1., 1.]],\n",
       "\n",
       "       [[1., 1., 1.],\n",
       "        [1., 1., 1.]],\n",
       "\n",
       "       [[1., 1., 1.],\n",
       "        [1., 1., 1.]],\n",
       "\n",
       "       [[1., 1., 1.],\n",
       "        [1., 1., 1.]]])"
      ]
     },
     "execution_count": 37,
     "metadata": {},
     "output_type": "execute_result"
    }
   ],
   "source": [
    "np.ones((6, 2, 3))"
   ]
  },
  {
   "cell_type": "code",
   "execution_count": 38,
   "id": "c4858970",
   "metadata": {},
   "outputs": [
    {
     "data": {
      "text/plain": [
       "array([[77., 77.],\n",
       "       [77., 77.],\n",
       "       [77., 77.]])"
      ]
     },
     "execution_count": 38,
     "metadata": {},
     "output_type": "execute_result"
    }
   ],
   "source": [
    "# Any other number Matrix\n",
    "np.full((2,2), 99) #((row, column), values)\n",
    "# You can as well specify the data type\n",
    "np.full((3, 2),  77, dtype = 'float64')"
   ]
  },
  {
   "cell_type": "code",
   "execution_count": 39,
   "id": "427bccda",
   "metadata": {},
   "outputs": [
    {
     "data": {
      "text/plain": [
       "array([[44, 44, 44, 44, 44, 44, 44],\n",
       "       [44, 44, 44, 44, 44, 44, 44]])"
      ]
     },
     "execution_count": 39,
     "metadata": {},
     "output_type": "execute_result"
    }
   ],
   "source": [
    "#Any other number (full) while trying to use the shape of anothe array\n",
    "np.full(a.shape, 44) # (arary_Shape_we_are_using, the value we want to pass in)"
   ]
  },
  {
   "cell_type": "code",
   "execution_count": 40,
   "id": "036ee312",
   "metadata": {},
   "outputs": [
    {
     "data": {
      "text/plain": [
       "array([[6, 6, 6, 6, 6, 6, 6],\n",
       "       [6, 6, 6, 6, 6, 6, 6]])"
      ]
     },
     "execution_count": 40,
     "metadata": {},
     "output_type": "execute_result"
    }
   ],
   "source": [
    "np.full(a.shape, 55)\n",
    "# OR\n",
    "np.full_like(a, 6)"
   ]
  },
  {
   "cell_type": "code",
   "execution_count": 41,
   "id": "2aec3c73",
   "metadata": {},
   "outputs": [
    {
     "data": {
      "text/plain": [
       "array([[[3.74961577e-01, 6.11403449e-01, 9.64393434e-01],\n",
       "        [9.95803846e-01, 2.89747997e-01, 4.60617046e-01]],\n",
       "\n",
       "       [[3.80111980e-01, 4.57765154e-01, 3.25824211e-02],\n",
       "        [5.16957846e-01, 7.64443221e-01, 9.24930087e-01]],\n",
       "\n",
       "       [[6.71380005e-01, 3.98856037e-02, 3.02270707e-01],\n",
       "        [2.12732379e-01, 3.10500264e-01, 1.15737472e-01]],\n",
       "\n",
       "       [[5.15976801e-04, 9.04974034e-01, 7.21206036e-01],\n",
       "        [4.78560950e-01, 1.75438999e-01, 1.44811695e-01]]])"
      ]
     },
     "execution_count": 41,
     "metadata": {},
     "output_type": "execute_result"
    }
   ],
   "source": [
    "# Initializing an array of random decimal numbers\n",
    "np.random.rand(4, 2, 3)"
   ]
  },
  {
   "cell_type": "code",
   "execution_count": 42,
   "id": "afb69611",
   "metadata": {},
   "outputs": [
    {
     "data": {
      "text/plain": [
       "array([[2, 3, 4],\n",
       "       [6, 4, 2],\n",
       "       [7, 5, 3]])"
      ]
     },
     "execution_count": 42,
     "metadata": {},
     "output_type": "execute_result"
    }
   ],
   "source": [
    "# Initializing an array of Integer values\n",
    "np.random.randint(2, 8, size = (3,3)) # (all numbers except for the number written, and the size of the (r, c))\n"
   ]
  },
  {
   "cell_type": "code",
   "execution_count": 43,
   "id": "e2653a56",
   "metadata": {},
   "outputs": [
    {
     "data": {
      "text/plain": [
       "array([[1., 0., 0.],\n",
       "       [0., 1., 0.],\n",
       "       [0., 0., 1.]])"
      ]
     },
     "execution_count": 43,
     "metadata": {},
     "output_type": "execute_result"
    }
   ],
   "source": [
    "# Creating an identity matrix\n",
    "np.identity(3) # This only needs one parameter"
   ]
  },
  {
   "cell_type": "code",
   "execution_count": 44,
   "id": "28ef728c",
   "metadata": {},
   "outputs": [
    {
     "name": "stdout",
     "output_type": "stream",
     "text": [
      "[1 1 1 2 2 2 3 3 3]\n",
      "[[1 2 3]\n",
      " [1 2 3]\n",
      " [1 2 3]]\n"
     ]
    }
   ],
   "source": [
    "# Repeating an array\n",
    "arr = np.array([1,2,3])\n",
    "r1 = np.repeat(arr, 3)\n",
    "print(r1)\n",
    "# To make it print in format '1,2,3- 1,2,3' we will use the axis method\n",
    "arr = np.array([[1,2,3]]) # we also need to make it a 2 dimensional array\n",
    "r1 = np.repeat(arr, 3, axis = 0)\n",
    "print(r1)"
   ]
  },
  {
   "cell_type": "code",
   "execution_count": 45,
   "id": "80ecb452",
   "metadata": {},
   "outputs": [
    {
     "name": "stdout",
     "output_type": "stream",
     "text": [
      "[[1. 1. 1. 1. 1.]\n",
      " [1. 1. 1. 1. 1.]\n",
      " [1. 1. 1. 1. 1.]\n",
      " [1. 1. 1. 1. 1.]\n",
      " [1. 1. 1. 1. 1.]]\n",
      "[[0. 0. 0.]\n",
      " [0. 9. 0.]\n",
      " [0. 0. 0.]]\n",
      "[[1. 1. 1. 1. 1.]\n",
      " [1. 0. 0. 0. 1.]\n",
      " [1. 0. 9. 0. 1.]\n",
      " [1. 0. 0. 0. 1.]\n",
      " [1. 1. 1. 1. 1.]]\n"
     ]
    }
   ],
   "source": [
    "output = np.ones((5, 5))\n",
    "print(output)\n",
    "\n",
    "z = np.zeros((3,3))\n",
    "z[1,1] = 9\n",
    "print(z)\n",
    "output[1:4, 1:4] = z # output[specify the rows, which is from 1 to 4 excluding 4th row, same thing with column]\n",
    "print(output)"
   ]
  },
  {
   "cell_type": "markdown",
   "id": "c9c67fd4",
   "metadata": {},
   "source": [
    "#### Be careful when copying arrays"
   ]
  },
  {
   "cell_type": "code",
   "execution_count": 46,
   "id": "20c8fb48",
   "metadata": {},
   "outputs": [
    {
     "name": "stdout",
     "output_type": "stream",
     "text": [
      "[1 2 3]\n",
      "[ 1 65  3]\n",
      "[1 2 3]\n"
     ]
    },
    {
     "name": "stderr",
     "output_type": "stream",
     "text": [
      "C:\\Users\\YK Gaji\\AppData\\Local\\Temp\\ipykernel_7808\\1759853172.py:2: DeprecationWarning: elementwise comparison failed; this will raise an error in the future.\n",
      "  b == a # you shouldn't assign them to the same memory storage e.g 'b = a', instead let them have the same values 'b ==a'\n"
     ]
    }
   ],
   "source": [
    "a = np.array([1, 2, 3])\n",
    "b == a # you shouldn't assign them to the same memory storage e.g 'b = a', instead let them have the same values 'b ==a'\n",
    "b[0] = 100\n",
    "b\n",
    "print(a)\n",
    "\n",
    "# OR\n",
    "\n",
    "b = a.copy() # This copies the contents of a\n",
    "b[1] = 65\n",
    "print(b)\n",
    "print(a)"
   ]
  },
  {
   "cell_type": "markdown",
   "id": "debb29b0",
   "metadata": {},
   "source": [
    "#  Mathematics using Numpy"
   ]
  },
  {
   "cell_type": "code",
   "execution_count": 47,
   "id": "e5f85bb1",
   "metadata": {},
   "outputs": [
    {
     "name": "stdout",
     "output_type": "stream",
     "text": [
      "[1 2 3 4]\n"
     ]
    }
   ],
   "source": [
    "a = np.array([1,2,3,4])\n",
    "print(a)"
   ]
  },
  {
   "cell_type": "code",
   "execution_count": 48,
   "id": "49af6295",
   "metadata": {},
   "outputs": [
    {
     "data": {
      "text/plain": [
       "array([3, 4, 5, 6])"
      ]
     },
     "execution_count": 48,
     "metadata": {},
     "output_type": "execute_result"
    }
   ],
   "source": [
    "a + 2 # Adds 2 to each element\n"
   ]
  },
  {
   "cell_type": "code",
   "execution_count": 49,
   "id": "e13dbd59",
   "metadata": {},
   "outputs": [
    {
     "data": {
      "text/plain": [
       "array([-1,  0,  1,  2])"
      ]
     },
     "execution_count": 49,
     "metadata": {},
     "output_type": "execute_result"
    }
   ],
   "source": [
    "a - 2 # Subtracts 2 from each element"
   ]
  },
  {
   "cell_type": "code",
   "execution_count": 50,
   "id": "4b263508",
   "metadata": {},
   "outputs": [
    {
     "data": {
      "text/plain": [
       "array([2, 4, 6, 8])"
      ]
     },
     "execution_count": 50,
     "metadata": {},
     "output_type": "execute_result"
    }
   ],
   "source": [
    "a * 2"
   ]
  },
  {
   "cell_type": "code",
   "execution_count": 51,
   "id": "ac3b880d",
   "metadata": {},
   "outputs": [
    {
     "data": {
      "text/plain": [
       "array([0.5, 1. , 1.5, 2. ])"
      ]
     },
     "execution_count": 51,
     "metadata": {},
     "output_type": "execute_result"
    }
   ],
   "source": [
    "a/2"
   ]
  },
  {
   "cell_type": "code",
   "execution_count": 52,
   "id": "cd4c627c",
   "metadata": {},
   "outputs": [
    {
     "data": {
      "text/plain": [
       "array([3, 4, 5, 6])"
      ]
     },
     "execution_count": 52,
     "metadata": {},
     "output_type": "execute_result"
    }
   ],
   "source": [
    "a += 2\n",
    "a"
   ]
  },
  {
   "cell_type": "code",
   "execution_count": 53,
   "id": "1769c716",
   "metadata": {},
   "outputs": [
    {
     "data": {
      "text/plain": [
       "array([4, 4, 6, 6])"
      ]
     },
     "execution_count": 53,
     "metadata": {},
     "output_type": "execute_result"
    }
   ],
   "source": [
    "b = np.array([1, 0, 1, 0])\n",
    "a + b"
   ]
  },
  {
   "cell_type": "code",
   "execution_count": 54,
   "id": "2b950880",
   "metadata": {},
   "outputs": [
    {
     "data": {
      "text/plain": [
       "array([ 9, 16, 25, 36], dtype=int32)"
      ]
     },
     "execution_count": 54,
     "metadata": {},
     "output_type": "execute_result"
    }
   ],
   "source": [
    "a ** 2"
   ]
  },
  {
   "cell_type": "code",
   "execution_count": 55,
   "id": "73c4503a",
   "metadata": {},
   "outputs": [
    {
     "data": {
      "text/plain": [
       "array([ 0.14112001, -0.7568025 , -0.95892427, -0.2794155 ])"
      ]
     },
     "execution_count": 55,
     "metadata": {},
     "output_type": "execute_result"
    }
   ],
   "source": [
    "# Take sine of all values :)\n",
    "np.sin(a)"
   ]
  },
  {
   "cell_type": "code",
   "execution_count": 56,
   "id": "5e261600",
   "metadata": {},
   "outputs": [
    {
     "data": {
      "text/plain": [
       "array([-0.9899925 , -0.65364362,  0.28366219,  0.96017029])"
      ]
     },
     "execution_count": 56,
     "metadata": {},
     "output_type": "execute_result"
    }
   ],
   "source": [
    "# Take the cos, sin, and even tan\n",
    "np.cos(a)"
   ]
  },
  {
   "cell_type": "markdown",
   "id": "3711bce1",
   "metadata": {},
   "source": [
    "# Linear Algebra"
   ]
  },
  {
   "cell_type": "code",
   "execution_count": 57,
   "id": "36357f5b",
   "metadata": {},
   "outputs": [
    {
     "name": "stdout",
     "output_type": "stream",
     "text": [
      "[[1. 1. 1.]\n",
      " [1. 1. 1.]]\n",
      "[[2 2]\n",
      " [2 2]\n",
      " [2 2]]\n"
     ]
    },
    {
     "data": {
      "text/plain": [
       "array([[6., 6.],\n",
       "       [6., 6.]])"
      ]
     },
     "execution_count": 57,
     "metadata": {},
     "output_type": "execute_result"
    }
   ],
   "source": [
    "a = np.ones((2, 3)) # (row, column)\n",
    "print(a)\n",
    "b = np.full((3,2), 2) # ((row, column), value)\n",
    "print(b)\n",
    "# In matrices you have to have the rows be equivalent to the column of the other matrix\n",
    "np.matmul(a, b) # This is a matrix built in func, normal 'a *b' wouldn't work"
   ]
  },
  {
   "cell_type": "code",
   "execution_count": 58,
   "id": "d4938aff",
   "metadata": {},
   "outputs": [
    {
     "data": {
      "text/plain": [
       "1.0"
      ]
     },
     "execution_count": 58,
     "metadata": {},
     "output_type": "execute_result"
    }
   ],
   "source": [
    "# Finding the determinant of a matrix\n",
    "c = np.identity(3)\n",
    "np.linalg.det(c) # np is the name of the numpy imported, linalg == linear algebra, det == determinat"
   ]
  },
  {
   "cell_type": "markdown",
   "id": "d9c4006e",
   "metadata": {},
   "source": [
    "# Statistics in Numpy/Matrices"
   ]
  },
  {
   "cell_type": "code",
   "execution_count": 59,
   "id": "9b42d095",
   "metadata": {},
   "outputs": [
    {
     "data": {
      "text/plain": [
       "array([[1, 2, 3],\n",
       "       [4, 5, 6]])"
      ]
     },
     "execution_count": 59,
     "metadata": {},
     "output_type": "execute_result"
    }
   ],
   "source": [
    "stats = np.array([[1,2,3], [4, 5,6 ]]) # 2 dimensional array\n",
    "stats"
   ]
  },
  {
   "cell_type": "code",
   "execution_count": 60,
   "id": "71be5e1b",
   "metadata": {},
   "outputs": [
    {
     "data": {
      "text/plain": [
       "array([1, 4])"
      ]
     },
     "execution_count": 60,
     "metadata": {},
     "output_type": "execute_result"
    }
   ],
   "source": [
    "#This gets the min value of stats\n",
    "np.min(stats, axis = 1) # this will give the minimum of the first and seconf row\n"
   ]
  },
  {
   "cell_type": "code",
   "execution_count": 69,
   "id": "aff44c7f",
   "metadata": {},
   "outputs": [
    {
     "data": {
      "text/plain": [
       "array([3, 6])"
      ]
     },
     "execution_count": 69,
     "metadata": {},
     "output_type": "execute_result"
    }
   ],
   "source": [
    "#This gets maximum value of stats\n",
    "np.max(stats, axis = 1) # The biggest values in the 2 rows"
   ]
  },
  {
   "cell_type": "code",
   "execution_count": 74,
   "id": "ef3f8866",
   "metadata": {},
   "outputs": [
    {
     "data": {
      "text/plain": [
       "array([5, 7, 9])"
      ]
     },
     "execution_count": 74,
     "metadata": {},
     "output_type": "execute_result"
    }
   ],
   "source": [
    "np.sum(stats)# This is going to sum all the elements in the array/matrix\n",
    "np.sum(stats, axis = 0) # This will add up all the terms gong downwards"
   ]
  },
  {
   "cell_type": "markdown",
   "id": "515d6d70",
   "metadata": {},
   "source": [
    "# Reorganizing Arrays"
   ]
  },
  {
   "cell_type": "code",
   "execution_count": 82,
   "id": "1eab5aff",
   "metadata": {},
   "outputs": [
    {
     "name": "stdout",
     "output_type": "stream",
     "text": [
      "[[1 2 3 4]\n",
      " [5 6 7 8]]\n",
      "(2, 4)\n",
      "[[1]\n",
      " [2]\n",
      " [3]\n",
      " [4]\n",
      " [5]\n",
      " [6]\n",
      " [7]\n",
      " [8]]\n"
     ]
    }
   ],
   "source": [
    "# Changing the shape of an array\n",
    "before = np.array([[1,2,3,4], [5,6,7,8]])\n",
    "print(before)\n",
    "print(before.shape)\n",
    "\n",
    "#re-assigning the values of the array to a new variable\n",
    "after = before.reshape((8, 1)) # The reshape method uses double brackets '((r, c))'\n",
    "print(after)"
   ]
  },
  {
   "cell_type": "code",
   "execution_count": 87,
   "id": "ce2b6b0f",
   "metadata": {},
   "outputs": [
    {
     "data": {
      "text/plain": [
       "array([[1, 2, 3, 4],\n",
       "       [5, 6, 7, 8],\n",
       "       [5, 6, 7, 8],\n",
       "       [5, 6, 7, 8]])"
      ]
     },
     "execution_count": 87,
     "metadata": {},
     "output_type": "execute_result"
    }
   ],
   "source": [
    "#  Vertically stacking Matrices\n",
    "v1 = np.array([1,2,3,4])\n",
    "v2 = np.array([5,6,7,8])\n",
    "np.vstack([v1, v2]) # This is me stacking an array on top of another one\n",
    "np.vstack([v1, v2, v2, v2]) # This will even give me multiple copies of th earray\n",
    "# vstack is the built in function use to run the stacking\n",
    "\n"
   ]
  },
  {
   "cell_type": "code",
   "execution_count": 91,
   "id": "a39bf850",
   "metadata": {},
   "outputs": [
    {
     "data": {
      "text/plain": [
       "array([[1., 1., 1., 1., 0., 0.],\n",
       "       [1., 1., 1., 1., 0., 0.]])"
      ]
     },
     "execution_count": 91,
     "metadata": {},
     "output_type": "execute_result"
    }
   ],
   "source": [
    "#Horizontal stacks\n",
    "h1 = np.ones((2, 4))\n",
    "h2 = np.zeros((2,2))\n",
    "\n",
    "h1\n",
    "h2\n",
    "np.hstack((h1, h2)) #This is horizontally stacking"
   ]
  },
  {
   "cell_type": "markdown",
   "id": "66cc58aa",
   "metadata": {},
   "source": [
    "#Miscellaneous\n",
    "\n",
    "Load data from file"
   ]
  },
  {
   "cell_type": "code",
   "execution_count": null,
   "id": "82d82712",
   "metadata": {},
   "outputs": [],
   "source": []
  },
  {
   "cell_type": "code",
   "execution_count": null,
   "id": "61941558",
   "metadata": {},
   "outputs": [],
   "source": []
  },
  {
   "cell_type": "code",
   "execution_count": null,
   "id": "e9e00b4a",
   "metadata": {},
   "outputs": [],
   "source": []
  },
  {
   "cell_type": "code",
   "execution_count": null,
   "id": "22bf9415",
   "metadata": {},
   "outputs": [],
   "source": []
  },
  {
   "cell_type": "code",
   "execution_count": null,
   "id": "4d4debb1",
   "metadata": {},
   "outputs": [],
   "source": []
  },
  {
   "cell_type": "code",
   "execution_count": null,
   "id": "1b1f142b",
   "metadata": {},
   "outputs": [],
   "source": []
  },
  {
   "cell_type": "code",
   "execution_count": null,
   "id": "43ca1f84",
   "metadata": {},
   "outputs": [],
   "source": []
  },
  {
   "cell_type": "markdown",
   "id": "d9d7e98b",
   "metadata": {},
   "source": [
    "# Mulitidimensional Arrays(2d/3d)"
   ]
  },
  {
   "cell_type": "code",
   "execution_count": 62,
   "id": "ec683455",
   "metadata": {},
   "outputs": [],
   "source": [
    "from numpy import *"
   ]
  },
  {
   "cell_type": "code",
   "execution_count": 63,
   "id": "a6981cca",
   "metadata": {},
   "outputs": [
    {
     "name": "stdout",
     "output_type": "stream",
     "text": [
      "[[1 2 3 6 2 9]\n",
      " [4 5 6 7 5 3]]\n",
      "int32\n",
      "2\n",
      "(2, 6)\n",
      "12\n"
     ]
    }
   ],
   "source": [
    "arr1= array([\n",
    "    \n",
    "                [1,2,3,6,2,9],\n",
    "                [4,5,6,7,5,3] # This is a 2 dimensional array\n",
    "])\n",
    "print(arr1)\n",
    "print(arr1.dtype) # This gives the data type of the array which is 'int'\n",
    "print(arr1.ndim) # This gives the dimension of the array\n",
    "print(arr1.shape) # This is the (r, c)\n",
    "print(arr1.size) # This will give you the total size of the entire block"
   ]
  },
  {
   "cell_type": "code",
   "execution_count": 64,
   "id": "b4d153fd",
   "metadata": {},
   "outputs": [
    {
     "name": "stdout",
     "output_type": "stream",
     "text": [
      "[1 2 3 6 2 9 4 5 6 7 5 3]\n",
      "[[1 2 3 6]\n",
      " [2 9 4 5]\n",
      " [6 7 5 3]]\n",
      "[[[1 2 3]\n",
      "  [6 2 9]]\n",
      "\n",
      " [[4 5 6]\n",
      "  [7 5 3]]]\n"
     ]
    }
   ],
   "source": [
    "arr2 = arr1.flatten() # This changes the array from 2d to 1d\n",
    "print(arr2)\n",
    "arr3 = arr2.reshape(3, 4) # This changes the 1d array to a 3d own, by providing the number of columns and rows needed\n",
    "print(arr3)\n",
    "arr3 = arr2.reshape(2, 2, 3)\n",
    "print(arr3)"
   ]
  },
  {
   "cell_type": "code",
   "execution_count": 65,
   "id": "cdb7a499",
   "metadata": {},
   "outputs": [
    {
     "name": "stdout",
     "output_type": "stream",
     "text": [
      "[[1 2 3 4]\n",
      " [5 6 7 8]]\n",
      "[[1 2 3 4]\n",
      " [5 6 7 8]]\n"
     ]
    }
   ],
   "source": [
    "arr5 = array([\n",
    "    [1,2,3,4], # This is a 2d array\n",
    "    [5,6,7,8]  \n",
    "])\n",
    "m = matrix(arr5) # Changing the array to matrix so we can perform operations on it\n",
    "print(arr5)\n",
    "print(m)"
   ]
  },
  {
   "cell_type": "code",
   "execution_count": 66,
   "id": "bddc256b",
   "metadata": {},
   "outputs": [
    {
     "name": "stdout",
     "output_type": "stream",
     "text": [
      "[[1 2 3 6]\n",
      " [4 5 6 7]]\n",
      "[[1 2 3]\n",
      " [6 4 5]\n",
      " [1 6 7]]\n",
      "[1 4 7]\n",
      "1\n",
      "7\n"
     ]
    }
   ],
   "source": [
    "m = matrix('1 2 3 6; 4 5 6 7')  # This shows you don't need to create a seperate arrays to save the values\n",
    "print(m) \n",
    "\n",
    "m = matrix('1 2 3; 6 4 5; 1 6 7')  # The semicolon is to change the rows and columns of the matrix/array\n",
    "print(m)\n",
    "\n",
    "# Printing the diagonal elements of m\n",
    "print(diagonal(m))\n",
    "\n",
    "# Printing the minimum element of an array\n",
    "print(m.min())\n",
    "\n",
    "#Printig the maximum value of an array\n",
    "print(m.max())\n"
   ]
  },
  {
   "cell_type": "code",
   "execution_count": 67,
   "id": "b0d11ce2",
   "metadata": {},
   "outputs": [
    {
     "name": "stdout",
     "output_type": "stream",
     "text": [
      "[[ 3  6  9]\n",
      " [ 7  7 10]\n",
      " [ 4 12 16]]\n",
      "[[ 13  28  43]\n",
      " [ 31  66 101]\n",
      " [ 29  64  99]]\n"
     ]
    }
   ],
   "source": [
    "# Multiplying two matrices\n",
    "m1 = matrix('1 2 3; 6 4 5; 1 6 7')\n",
    "m2 = matrix('2 4 6; 1 3 5; 3 6 9')\n",
    "\n",
    "m3 = m1 + m2 # The addition is working well\n",
    "print(m3)\n",
    "\n",
    "m3 = m1 * m2 # This multiplication is not done properly\n",
    "print(m3)"
   ]
  },
  {
   "cell_type": "code",
   "execution_count": null,
   "id": "3bac1294",
   "metadata": {},
   "outputs": [],
   "source": []
  }
 ],
 "metadata": {
  "kernelspec": {
   "display_name": "Python 3 (ipykernel)",
   "language": "python",
   "name": "python3"
  },
  "language_info": {
   "codemirror_mode": {
    "name": "ipython",
    "version": 3
   },
   "file_extension": ".py",
   "mimetype": "text/x-python",
   "name": "python",
   "nbconvert_exporter": "python",
   "pygments_lexer": "ipython3",
   "version": "3.9.12"
  }
 },
 "nbformat": 4,
 "nbformat_minor": 5
}
