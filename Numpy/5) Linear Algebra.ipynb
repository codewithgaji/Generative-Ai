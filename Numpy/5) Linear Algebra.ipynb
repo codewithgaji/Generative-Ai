{
 "cells": [
  {
   "cell_type": "markdown",
   "id": "c64ef7d5",
   "metadata": {},
   "source": [
    "# Linear Algebra"
   ]
  },
  {
   "cell_type": "code",
   "execution_count": 1,
   "id": "6345d1e5",
   "metadata": {},
   "outputs": [],
   "source": [
    "import numpy as np"
   ]
  },
  {
   "cell_type": "code",
   "execution_count": 2,
   "id": "681b2d28",
   "metadata": {},
   "outputs": [
    {
     "name": "stdout",
     "output_type": "stream",
     "text": [
      "[[1. 1. 1.]\n",
      " [1. 1. 1.]]\n"
     ]
    }
   ],
   "source": [
    "a = np.ones((2, 3)) # (row, column)\n",
    "print(a)"
   ]
  },
  {
   "cell_type": "code",
   "execution_count": 3,
   "id": "f318d287",
   "metadata": {},
   "outputs": [
    {
     "name": "stdout",
     "output_type": "stream",
     "text": [
      "[[2 2]\n",
      " [2 2]\n",
      " [2 2]]\n"
     ]
    }
   ],
   "source": [
    "b = np.full((3,2), 2) # ((row, column), value)\n",
    "print(b)"
   ]
  },
  {
   "cell_type": "code",
   "execution_count": 4,
   "id": "8c101a4d",
   "metadata": {},
   "outputs": [
    {
     "data": {
      "text/plain": [
       "array([[6., 6.],\n",
       "       [6., 6.]])"
      ]
     },
     "execution_count": 4,
     "metadata": {},
     "output_type": "execute_result"
    }
   ],
   "source": [
    "# In matrices you have to have the rows be equivalent to the column of the other matrix\n",
    "np.matmul(a, b) # This is a matrix built in func, normal 'a *b' wouldn't work"
   ]
  },
  {
   "cell_type": "code",
   "execution_count": 5,
   "id": "571e07c8",
   "metadata": {},
   "outputs": [
    {
     "name": "stdout",
     "output_type": "stream",
     "text": [
      "[[1. 0. 0.]\n",
      " [0. 1. 0.]\n",
      " [0. 0. 1.]]\n"
     ]
    }
   ],
   "source": [
    "# Finding the determinant of a matrix\n",
    "c = np.identity(3)\n",
    "print(c)"
   ]
  },
  {
   "cell_type": "code",
   "execution_count": 6,
   "id": "980f3cb9",
   "metadata": {},
   "outputs": [
    {
     "data": {
      "text/plain": [
       "1.0"
      ]
     },
     "execution_count": 6,
     "metadata": {},
     "output_type": "execute_result"
    }
   ],
   "source": [
    "np.linalg.det(c) # np is the name of the numpy imported, linalg == linear algebra, det == determinat"
   ]
  },
  {
   "cell_type": "markdown",
   "id": "43652251",
   "metadata": {},
   "source": [
    "## Statistics in Numpy/Matrices"
   ]
  },
  {
   "cell_type": "code",
   "execution_count": 7,
   "id": "84eae89c",
   "metadata": {},
   "outputs": [
    {
     "data": {
      "text/plain": [
       "array([[1, 2, 3],\n",
       "       [4, 5, 6]])"
      ]
     },
     "execution_count": 7,
     "metadata": {},
     "output_type": "execute_result"
    }
   ],
   "source": [
    "stats = np.array([[1,2,3], [4, 5,6 ]]) # 2 dimensional array\n",
    "stats"
   ]
  },
  {
   "cell_type": "code",
   "execution_count": 8,
   "id": "e9d69bc2",
   "metadata": {},
   "outputs": [
    {
     "data": {
      "text/plain": [
       "array([1, 4])"
      ]
     },
     "execution_count": 8,
     "metadata": {},
     "output_type": "execute_result"
    }
   ],
   "source": [
    "# This gets the min value of stats\n",
    "np.min(stats, axis = 1) # this will give the minimum of the first and second row"
   ]
  },
  {
   "cell_type": "code",
   "execution_count": 9,
   "id": "081e62a2",
   "metadata": {},
   "outputs": [
    {
     "data": {
      "text/plain": [
       "array([3, 6])"
      ]
     },
     "execution_count": 9,
     "metadata": {},
     "output_type": "execute_result"
    }
   ],
   "source": [
    "# This gets maximum value of stats\n",
    "# The biggest values in the 2 rows. '3' in first ROW,6 in the second row \n",
    "np.max(stats, axis = 1)"
   ]
  },
  {
   "cell_type": "code",
   "execution_count": 10,
   "id": "17fa6352",
   "metadata": {},
   "outputs": [
    {
     "data": {
      "text/plain": [
       "array([5, 7, 9])"
      ]
     },
     "execution_count": 10,
     "metadata": {},
     "output_type": "execute_result"
    }
   ],
   "source": [
    "np.sum(stats)# This is going to sum all the elements in the array/matrix\n",
    "np.sum(stats, axis = 0) # This will add up all the terms going downwards\n",
    "# [1+4, 2+5, 3+6] adding first row with second row per column"
   ]
  },
  {
   "cell_type": "markdown",
   "id": "38bb9b21",
   "metadata": {},
   "source": [
    "## Reorganizing Arrays"
   ]
  },
  {
   "cell_type": "code",
   "execution_count": 11,
   "id": "85688d61",
   "metadata": {},
   "outputs": [
    {
     "name": "stdout",
     "output_type": "stream",
     "text": [
      "[[1 2 3 4]\n",
      " [5 6 7 8]]\n",
      "(2, 4)\n"
     ]
    }
   ],
   "source": [
    "# Changing the shape of an array\n",
    "before = np.array([[1,2,3,4], [5,6,7,8]])\n",
    "print(before)\n",
    "print(before.shape)"
   ]
  },
  {
   "cell_type": "code",
   "execution_count": 12,
   "id": "5da5f838",
   "metadata": {},
   "outputs": [
    {
     "name": "stdout",
     "output_type": "stream",
     "text": [
      "[[1]\n",
      " [2]\n",
      " [3]\n",
      " [4]\n",
      " [5]\n",
      " [6]\n",
      " [7]\n",
      " [8]]\n"
     ]
    }
   ],
   "source": [
    "#re-assigning the values of the array to a new variable\n",
    "after = before.reshape((8, 1)) # The reshape method uses double brackets '((r, c))'\n",
    "print(after)"
   ]
  },
  {
   "cell_type": "code",
   "execution_count": 13,
   "id": "46814b82",
   "metadata": {},
   "outputs": [],
   "source": [
    "#  Vertically stacking Matrices\n",
    "v1 = np.array([1,2,3,4])\n",
    "v2 = np.array([5,6,7,8])"
   ]
  },
  {
   "cell_type": "code",
   "execution_count": 14,
   "id": "0048dfcd",
   "metadata": {},
   "outputs": [
    {
     "data": {
      "text/plain": [
       "array([[1, 2, 3, 4],\n",
       "       [5, 6, 7, 8],\n",
       "       [1, 2, 3, 4],\n",
       "       [5, 6, 7, 8]])"
      ]
     },
     "execution_count": 14,
     "metadata": {},
     "output_type": "execute_result"
    }
   ],
   "source": [
    "np.vstack([v1, v2]) # This is me stacking an array on top of another one\n",
    "np.vstack([v1, v2, v1, v2]) # This will even give me multiple copies of the array\n",
    "# vstack is the built in function use to run the stacking - STACKS in Linear Data Structures."
   ]
  },
  {
   "cell_type": "code",
   "execution_count": 15,
   "id": "b48e28e8",
   "metadata": {},
   "outputs": [],
   "source": [
    "# Horizontal stacks\n",
    "h1 = np.ones((2, 4))\n",
    "h2 = np.zeros((2,2))"
   ]
  },
  {
   "cell_type": "code",
   "execution_count": 16,
   "id": "e004d15b",
   "metadata": {},
   "outputs": [
    {
     "name": "stdout",
     "output_type": "stream",
     "text": [
      "[[1. 1. 1. 1.]\n",
      " [1. 1. 1. 1.]]\n",
      "[[0. 0.]\n",
      " [0. 0.]]\n"
     ]
    }
   ],
   "source": [
    "print(h1)\n",
    "print(h2)"
   ]
  },
  {
   "cell_type": "code",
   "execution_count": 17,
   "id": "6173b059",
   "metadata": {},
   "outputs": [
    {
     "data": {
      "text/plain": [
       "array([[1., 1., 1., 1., 0., 0.],\n",
       "       [1., 1., 1., 1., 0., 0.]])"
      ]
     },
     "execution_count": 17,
     "metadata": {},
     "output_type": "execute_result"
    }
   ],
   "source": [
    "np.hstack((h1, h2)) # This is horizontally stacking"
   ]
  }
 ],
 "metadata": {
  "kernelspec": {
   "display_name": "Python 3 (ipykernel)",
   "language": "python",
   "name": "python3"
  },
  "language_info": {
   "codemirror_mode": {
    "name": "ipython",
    "version": 3
   },
   "file_extension": ".py",
   "mimetype": "text/x-python",
   "name": "python",
   "nbconvert_exporter": "python",
   "pygments_lexer": "ipython3",
   "version": "3.9.12"
  }
 },
 "nbformat": 4,
 "nbformat_minor": 5
}
