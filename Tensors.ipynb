{
 "cells": [
  {
   "cell_type": "code",
   "execution_count": 1,
   "id": "2202ee35",
   "metadata": {},
   "outputs": [
    {
     "name": "stdout",
     "output_type": "stream",
     "text": [
      "Defaulting to user installation because normal site-packages is not writeable\n",
      "Requirement already satisfied: torch in c:\\users\\yk gaji\\appdata\\roaming\\python\\python39\\site-packages (2.5.1)\n",
      "Requirement already satisfied: torchaudio in c:\\users\\yk gaji\\appdata\\roaming\\python\\python39\\site-packages (2.5.1)\n",
      "Requirement already satisfied: torchvision in c:\\users\\yk gaji\\appdata\\roaming\\python\\python39\\site-packages (0.20.1)\n",
      "Requirement already satisfied: typing-extensions>=4.8.0 in c:\\users\\yk gaji\\appdata\\roaming\\python\\python39\\site-packages (from torch) (4.12.2)\n",
      "Requirement already satisfied: jinja2 in c:\\programdata\\anaconda3\\lib\\site-packages (from torch) (2.11.3)\n",
      "Requirement already satisfied: filelock in c:\\programdata\\anaconda3\\lib\\site-packages (from torch) (3.6.0)\n",
      "Requirement already satisfied: sympy==1.13.1 in c:\\users\\yk gaji\\appdata\\roaming\\python\\python39\\site-packages (from torch) (1.13.1)\n",
      "Requirement already satisfied: networkx in c:\\programdata\\anaconda3\\lib\\site-packages (from torch) (2.7.1)\n",
      "Requirement already satisfied: fsspec in c:\\users\\yk gaji\\appdata\\roaming\\python\\python39\\site-packages (from torch) (2024.12.0)\n",
      "Requirement already satisfied: mpmath<1.4,>=1.1.0 in c:\\programdata\\anaconda3\\lib\\site-packages (from sympy==1.13.1->torch) (1.2.1)\n",
      "Requirement already satisfied: pillow!=8.3.*,>=5.3.0 in c:\\programdata\\anaconda3\\lib\\site-packages (from torchvision) (9.0.1)\n",
      "Requirement already satisfied: numpy in c:\\programdata\\anaconda3\\lib\\site-packages (from torchvision) (1.21.5)\n",
      "Requirement already satisfied: MarkupSafe>=0.23 in c:\\programdata\\anaconda3\\lib\\site-packages (from jinja2->torch) (2.0.1)\n",
      "Note: you may need to restart the kernel to use updated packages.\n"
     ]
    }
   ],
   "source": [
    "pip install torch torchaudio torchvision"
   ]
  },
  {
   "cell_type": "code",
   "execution_count": 2,
   "id": "c8f0f453",
   "metadata": {},
   "outputs": [],
   "source": [
    "import torch\n",
    "import numpy as np"
   ]
  },
  {
   "cell_type": "markdown",
   "id": "b3e6da94",
   "metadata": {},
   "source": [
    "# NUMPY Revision"
   ]
  },
  {
   "cell_type": "code",
   "execution_count": 3,
   "id": "c8885a14",
   "metadata": {},
   "outputs": [
    {
     "data": {
      "text/plain": [
       "array([[ 1,  2,  3,  4,  5],\n",
       "       [ 6,  7,  8,  9, 10]])"
      ]
     },
     "execution_count": 3,
     "metadata": {},
     "output_type": "execute_result"
    }
   ],
   "source": [
    "a = np.array([[1, 2, 3, 4, 5], [6, 7, 8, 9, 10]])\n",
    "a"
   ]
  },
  {
   "cell_type": "code",
   "execution_count": 4,
   "id": "4ce17523",
   "metadata": {},
   "outputs": [
    {
     "data": {
      "text/plain": [
       "8"
      ]
     },
     "execution_count": 4,
     "metadata": {},
     "output_type": "execute_result"
    }
   ],
   "source": [
    "a[1, 2]"
   ]
  },
  {
   "cell_type": "code",
   "execution_count": 5,
   "id": "80651f81",
   "metadata": {},
   "outputs": [
    {
     "data": {
      "text/plain": [
       "4"
      ]
     },
     "execution_count": 5,
     "metadata": {},
     "output_type": "execute_result"
    }
   ],
   "source": [
    "a.itemsize # This represents sizes of each elements to be 4 bytes"
   ]
  },
  {
   "cell_type": "code",
   "execution_count": 6,
   "id": "fd1298d4",
   "metadata": {},
   "outputs": [
    {
     "data": {
      "text/plain": [
       "(2, 5)"
      ]
     },
     "execution_count": 6,
     "metadata": {},
     "output_type": "execute_result"
    }
   ],
   "source": [
    "a.shape # This shows the number of rows and columns that we have"
   ]
  },
  {
   "cell_type": "code",
   "execution_count": 8,
   "id": "8d730ffe",
   "metadata": {},
   "outputs": [
    {
     "name": "stdout",
     "output_type": "stream",
     "text": [
      "[[ 1  2  3  8  5]\n",
      " [ 6  7  8  8 10]]\n"
     ]
    }
   ],
   "source": [
    "a[:, 3] = 8 # This  is used to edit a particular column, the ':' is used to  pick the whole row\n",
    "print(a)"
   ]
  },
  {
   "cell_type": "code",
   "execution_count": 13,
   "id": "55b61348",
   "metadata": {},
   "outputs": [
    {
     "data": {
      "text/plain": [
       "array([[[1, 2],\n",
       "        [3, 4]],\n",
       "\n",
       "       [[5, 6],\n",
       "        [7, 8]]])"
      ]
     },
     "execution_count": 13,
     "metadata": {},
     "output_type": "execute_result"
    }
   ],
   "source": [
    "a = np.array([[[1, 2], [3, 4]], [[5, 6], [7, 8]]]) # This is a 3-dimensional array\n",
    "a"
   ]
  },
  {
   "cell_type": "code",
   "execution_count": 14,
   "id": "0809beeb",
   "metadata": {},
   "outputs": [
    {
     "data": {
      "text/plain": [
       "3"
      ]
     },
     "execution_count": 14,
     "metadata": {},
     "output_type": "execute_result"
    }
   ],
   "source": [
    "a[0, 1, 0] \n",
    "# The '0' is used to get the first row, and the '1' is used to get the \n",
    "# second row in the first 3d, and the '0' is used to get the first index in\n",
    "# that row"
   ]
  },
  {
   "cell_type": "code",
   "execution_count": 16,
   "id": "ec93d32c",
   "metadata": {},
   "outputs": [
    {
     "data": {
      "text/plain": [
       "array([[0., 0., 0., 0.],\n",
       "       [0., 0., 0., 0.],\n",
       "       [0., 0., 0., 0.]])"
      ]
     },
     "execution_count": 16,
     "metadata": {},
     "output_type": "execute_result"
    }
   ],
   "source": [
    "#ALl 0's Matrix\n",
    "np.zeros((3, 4))"
   ]
  },
  {
   "cell_type": "code",
   "execution_count": 17,
   "id": "a8869992",
   "metadata": {},
   "outputs": [
    {
     "data": {
      "text/plain": [
       "array([[1., 1., 1.],\n",
       "       [1., 1., 1.]])"
      ]
     },
     "execution_count": 17,
     "metadata": {},
     "output_type": "execute_result"
    }
   ],
   "source": [
    "np.ones((2, 3))"
   ]
  },
  {
   "cell_type": "code",
   "execution_count": 18,
   "id": "f4f6ab5a",
   "metadata": {},
   "outputs": [
    {
     "data": {
      "text/plain": [
       "array([[[1., 1., 1., 1.],\n",
       "        [1., 1., 1., 1.],\n",
       "        [1., 1., 1., 1.]],\n",
       "\n",
       "       [[1., 1., 1., 1.],\n",
       "        [1., 1., 1., 1.],\n",
       "        [1., 1., 1., 1.]]])"
      ]
     },
     "execution_count": 18,
     "metadata": {},
     "output_type": "execute_result"
    }
   ],
   "source": [
    "np.ones((2, 3, 4)) \n",
    "# ((how many rows, how many columns per row, how many columns in total))"
   ]
  },
  {
   "cell_type": "code",
   "execution_count": 19,
   "id": "8938bf2a",
   "metadata": {},
   "outputs": [
    {
     "data": {
      "text/plain": [
       "array([[666, 666],\n",
       "       [666, 666],\n",
       "       [666, 666],\n",
       "       [666, 666]])"
      ]
     },
     "execution_count": 19,
     "metadata": {},
     "output_type": "execute_result"
    }
   ],
   "source": [
    "np.full((4, 2), 666) #((r, c), values)"
   ]
  },
  {
   "cell_type": "code",
   "execution_count": 21,
   "id": "2e5b0d76",
   "metadata": {},
   "outputs": [
    {
     "data": {
      "text/plain": [
       "array([1, 2, 3, 4, 5])"
      ]
     },
     "execution_count": 21,
     "metadata": {},
     "output_type": "execute_result"
    }
   ],
   "source": [
    "a  = np.array([1, 2, 3, 4, 5])\n",
    "a"
   ]
  },
  {
   "cell_type": "code",
   "execution_count": 27,
   "id": "e4f7f044",
   "metadata": {},
   "outputs": [
    {
     "data": {
      "text/plain": [
       "array([3, 4, 5, 6, 7])"
      ]
     },
     "execution_count": 27,
     "metadata": {},
     "output_type": "execute_result"
    }
   ],
   "source": [
    "# Addition\n",
    "b = a + 2\n",
    "b"
   ]
  },
  {
   "cell_type": "code",
   "execution_count": 24,
   "id": "8a9479dd",
   "metadata": {},
   "outputs": [
    {
     "data": {
      "text/plain": [
       "array([0, 1, 1, 2, 2], dtype=int32)"
      ]
     },
     "execution_count": 24,
     "metadata": {},
     "output_type": "execute_result"
    }
   ],
   "source": [
    "a // 2"
   ]
  },
  {
   "cell_type": "code",
   "execution_count": 25,
   "id": "5584012c",
   "metadata": {},
   "outputs": [
    {
     "data": {
      "text/plain": [
       "array([0, 1, 2, 3, 4])"
      ]
     },
     "execution_count": 25,
     "metadata": {},
     "output_type": "execute_result"
    }
   ],
   "source": [
    "a - 1"
   ]
  },
  {
   "cell_type": "code",
   "execution_count": 28,
   "id": "d670b8a5",
   "metadata": {},
   "outputs": [
    {
     "data": {
      "text/plain": [
       "array([ 6,  8, 10, 12, 14])"
      ]
     },
     "execution_count": 28,
     "metadata": {},
     "output_type": "execute_result"
    }
   ],
   "source": [
    "b * 2"
   ]
  },
  {
   "cell_type": "code",
   "execution_count": 29,
   "id": "ea839e3d",
   "metadata": {},
   "outputs": [
    {
     "data": {
      "text/plain": [
       "array([[0.00828874, 0.76414477],\n",
       "       [0.9386838 , 0.87423923],\n",
       "       [0.65003378, 0.30380247]])"
      ]
     },
     "execution_count": 29,
     "metadata": {},
     "output_type": "execute_result"
    }
   ],
   "source": [
    "np.random.rand(3, 2)"
   ]
  },
  {
   "cell_type": "code",
   "execution_count": 30,
   "id": "49bc3635",
   "metadata": {},
   "outputs": [
    {
     "data": {
      "text/plain": [
       "array([[[0.46636919, 0.50205098, 0.62342603, 0.96982021, 0.17314073],\n",
       "        [0.8054262 , 0.96845928, 0.81586989, 0.83705499, 0.21963332]],\n",
       "\n",
       "       [[0.32715869, 0.37361648, 0.20968064, 0.71197275, 0.32042085],\n",
       "        [0.34229174, 0.95385178, 0.26371072, 0.70832108, 0.13692188]],\n",
       "\n",
       "       [[0.15652842, 0.0759166 , 0.3538984 , 0.05747106, 0.35672736],\n",
       "        [0.875227  , 0.4327272 , 0.37229544, 0.32339768, 0.73644308]]])"
      ]
     },
     "execution_count": 30,
     "metadata": {},
     "output_type": "execute_result"
    }
   ],
   "source": [
    "np.random.rand(3, 2, 5) # (3 rows, 2 rows per each row, 5 columns)"
   ]
  },
  {
   "cell_type": "code",
   "execution_count": 36,
   "id": "bb2723ef",
   "metadata": {},
   "outputs": [
    {
     "data": {
      "text/plain": [
       "array([[4, 5, 9, 6],\n",
       "       [5, 9, 2, 2],\n",
       "       [9, 9, 3, 6],\n",
       "       [5, 6, 2, 8]])"
      ]
     },
     "execution_count": 36,
     "metadata": {},
     "output_type": "execute_result"
    }
   ],
   "source": [
    "#Creation of integer values\n",
    "np.random.randint(2, 10, size= (4, 4))\n",
    "#(a,  b, size=(r, c)), the lowest possible value is going to be 'a'(inclusive), and the highest possible value is going to be 'b'(exclusive)\n",
    "# the 'a' and 'b' are ranges"
   ]
  },
  {
   "cell_type": "code",
   "execution_count": 37,
   "id": "2f642cd5",
   "metadata": {},
   "outputs": [
    {
     "data": {
      "text/plain": [
       "array([['me', 'you'],\n",
       "       ['me', 'you'],\n",
       "       ['me', 'me']], dtype='<U3')"
      ]
     },
     "execution_count": 37,
     "metadata": {},
     "output_type": "execute_result"
    }
   ],
   "source": [
    "np.random.choice(['me', 'you'], size= (3, 2))"
   ]
  },
  {
   "cell_type": "code",
   "execution_count": 43,
   "id": "5ca5bfe5",
   "metadata": {},
   "outputs": [
    {
     "data": {
      "text/plain": [
       "array([[0.4953225 , 0.23022054, 0.62277061, 0.35659806],\n",
       "       [0.97804376, 0.44631588, 0.37695991, 0.9949988 ],\n",
       "       [0.48538035, 0.75199755, 0.72464748, 0.07133965]])"
      ]
     },
     "execution_count": 43,
     "metadata": {},
     "output_type": "execute_result"
    }
   ],
   "source": [
    "np1 = np.random.rand(3, 4)\n",
    "np1"
   ]
  },
  {
   "cell_type": "markdown",
   "id": "e85f94a2",
   "metadata": {},
   "source": [
    "# Tensors"
   ]
  },
  {
   "cell_type": "code",
   "execution_count": 39,
   "id": "aad8bc5f",
   "metadata": {},
   "outputs": [
    {
     "data": {
      "text/plain": [
       "tensor([[-0.2855,  0.5648, -0.4885, -0.5913],\n",
       "        [-0.8088,  1.3789,  0.3901,  0.3774],\n",
       "        [ 1.4651, -1.1554,  0.4124, -0.0106]])"
      ]
     },
     "execution_count": 39,
     "metadata": {},
     "output_type": "execute_result"
    }
   ],
   "source": [
    "# Tensors are very similar to arrays but specifically created for Deep Learning\n",
    "tensor_2d = torch.randn(3, 4) # This is tensors using the torch library\n",
    "tensor_2d"
   ]
  },
  {
   "cell_type": "code",
   "execution_count": 46,
   "id": "54e3c2f3",
   "metadata": {},
   "outputs": [
    {
     "data": {
      "text/plain": [
       "torch.float32"
      ]
     },
     "execution_count": 46,
     "metadata": {},
     "output_type": "execute_result"
    }
   ],
   "source": [
    "tensor_3d = torch.zeros(2, 3, 4) # (2 rows, 3 rows per each 3d row, 4 columns in total)\n",
    "tensor_3d\n",
    "tensor_3d.dtype"
   ]
  },
  {
   "cell_type": "code",
   "execution_count": 45,
   "id": "22eafd44",
   "metadata": {},
   "outputs": [
    {
     "data": {
      "text/plain": [
       "tensor([[0.4953, 0.2302, 0.6228, 0.3566],\n",
       "        [0.9780, 0.4463, 0.3770, 0.9950],\n",
       "        [0.4854, 0.7520, 0.7246, 0.0713]], dtype=torch.float64)"
      ]
     },
     "execution_count": 45,
     "metadata": {},
     "output_type": "execute_result"
    }
   ],
   "source": [
    "# Create tensor out of numpy array \n",
    "my_tensor = torch.tensor(np1) # tensor being created out of numpy\n",
    "my_tensor"
   ]
  },
  {
   "cell_type": "markdown",
   "id": "029c4169",
   "metadata": {},
   "source": [
    "# Tensors operations"
   ]
  },
  {
   "cell_type": "code",
   "execution_count": null,
   "id": "f272aee6",
   "metadata": {},
   "outputs": [],
   "source": []
  }
 ],
 "metadata": {
  "kernelspec": {
   "display_name": "Python 3 (ipykernel)",
   "language": "python",
   "name": "python3"
  },
  "language_info": {
   "codemirror_mode": {
    "name": "ipython",
    "version": 3
   },
   "file_extension": ".py",
   "mimetype": "text/x-python",
   "name": "python",
   "nbconvert_exporter": "python",
   "pygments_lexer": "ipython3",
   "version": "3.9.12"
  }
 },
 "nbformat": 4,
 "nbformat_minor": 5
}
