{
 "cells": [
  {
   "cell_type": "markdown",
   "id": "38890cdd",
   "metadata": {},
   "source": [
    "# Comparing Pandas to a Python Dictionary"
   ]
  },
  {
   "cell_type": "code",
   "execution_count": 1,
   "id": "93d23831",
   "metadata": {},
   "outputs": [],
   "source": [
    "# Confirming Why Pandas is better for data manipulation compare to python's typical dictionary\n",
    "people= {\n",
    "    'first_name' : ['Yaqub', 'Muhsina', 'Abubakar', 'Taiwo'],\n",
    "    'last_name' : ['Gaji', 'Oyinda', 'Abdulkareem', 'Olatunji'],\n",
    "    'email': ['gaji@123.com', 'oyin@6.com', 'abdul@gmail.com', 'ola@email.ng']\n",
    "}"
   ]
  },
  {
   "cell_type": "code",
   "execution_count": 2,
   "id": "ec7ca2a7",
   "metadata": {},
   "outputs": [],
   "source": [
    "import pandas as pd"
   ]
  },
  {
   "cell_type": "code",
   "execution_count": 3,
   "id": "f286a911",
   "metadata": {},
   "outputs": [
    {
     "data": {
      "text/plain": [
       "['Yaqub', 'Muhsina', 'Abubakar', 'Taiwo']"
      ]
     },
     "execution_count": 3,
     "metadata": {},
     "output_type": "execute_result"
    }
   ],
   "source": [
    "# Getting the 'first_name' of the dictionary\n",
    "people['first_name']"
   ]
  },
  {
   "cell_type": "markdown",
   "id": "785faa7a",
   "metadata": {},
   "source": [
    "Changing the Dict to a data frame using Pandas"
   ]
  },
  {
   "cell_type": "code",
   "execution_count": 4,
   "id": "2f85a19a",
   "metadata": {},
   "outputs": [],
   "source": [
    "# Ensure that the method are written properly\n",
    "df = pd.DataFrame(people) # This to create a visual representation"
   ]
  },
  {
   "cell_type": "code",
   "execution_count": 5,
   "id": "479e86b9",
   "metadata": {},
   "outputs": [
    {
     "data": {
      "text/html": [
       "<div>\n",
       "<style scoped>\n",
       "    .dataframe tbody tr th:only-of-type {\n",
       "        vertical-align: middle;\n",
       "    }\n",
       "\n",
       "    .dataframe tbody tr th {\n",
       "        vertical-align: top;\n",
       "    }\n",
       "\n",
       "    .dataframe thead th {\n",
       "        text-align: right;\n",
       "    }\n",
       "</style>\n",
       "<table border=\"1\" class=\"dataframe\">\n",
       "  <thead>\n",
       "    <tr style=\"text-align: right;\">\n",
       "      <th></th>\n",
       "      <th>first_name</th>\n",
       "      <th>last_name</th>\n",
       "      <th>email</th>\n",
       "    </tr>\n",
       "  </thead>\n",
       "  <tbody>\n",
       "    <tr>\n",
       "      <th>0</th>\n",
       "      <td>Yaqub</td>\n",
       "      <td>Gaji</td>\n",
       "      <td>gaji@123.com</td>\n",
       "    </tr>\n",
       "    <tr>\n",
       "      <th>1</th>\n",
       "      <td>Muhsina</td>\n",
       "      <td>Oyinda</td>\n",
       "      <td>oyin@6.com</td>\n",
       "    </tr>\n",
       "    <tr>\n",
       "      <th>2</th>\n",
       "      <td>Abubakar</td>\n",
       "      <td>Abdulkareem</td>\n",
       "      <td>abdul@gmail.com</td>\n",
       "    </tr>\n",
       "    <tr>\n",
       "      <th>3</th>\n",
       "      <td>Taiwo</td>\n",
       "      <td>Olatunji</td>\n",
       "      <td>ola@email.ng</td>\n",
       "    </tr>\n",
       "  </tbody>\n",
       "</table>\n",
       "</div>"
      ],
      "text/plain": [
       "  first_name    last_name            email\n",
       "0      Yaqub         Gaji     gaji@123.com\n",
       "1    Muhsina       Oyinda       oyin@6.com\n",
       "2   Abubakar  Abdulkareem  abdul@gmail.com\n",
       "3      Taiwo     Olatunji     ola@email.ng"
      ]
     },
     "execution_count": 5,
     "metadata": {},
     "output_type": "execute_result"
    }
   ],
   "source": [
    "# Now we can visualize it properly\n",
    "df"
   ]
  },
  {
   "cell_type": "code",
   "execution_count": 6,
   "id": "6037eca9",
   "metadata": {},
   "outputs": [
    {
     "data": {
      "text/plain": [
       "0       Yaqub\n",
       "1     Muhsina\n",
       "2    Abubakar\n",
       "3       Taiwo\n",
       "Name: first_name, dtype: object"
      ]
     },
     "execution_count": 6,
     "metadata": {},
     "output_type": "execute_result"
    }
   ],
   "source": [
    "# This is a series: A single column of rows\n",
    "df['first_name']"
   ]
  },
  {
   "cell_type": "code",
   "execution_count": 7,
   "id": "6ffd243d",
   "metadata": {},
   "outputs": [
    {
     "data": {
      "text/plain": [
       "pandas.core.series.Series"
      ]
     },
     "execution_count": 7,
     "metadata": {},
     "output_type": "execute_result"
    }
   ],
   "source": [
    "# Checking the type of data it is, which is 'series'\n",
    "type(df['first_name'])"
   ]
  },
  {
   "cell_type": "code",
   "execution_count": 8,
   "id": "66257aef",
   "metadata": {},
   "outputs": [
    {
     "data": {
      "text/plain": [
       "0       gaji@123.com\n",
       "1         oyin@6.com\n",
       "2    abdul@gmail.com\n",
       "3       ola@email.ng\n",
       "Name: email, dtype: object"
      ]
     },
     "execution_count": 8,
     "metadata": {},
     "output_type": "execute_result"
    }
   ],
   "source": [
    "# the dot notation also works to access the data in Pandas\n",
    "df.email "
   ]
  },
  {
   "cell_type": "code",
   "execution_count": 9,
   "id": "9687c407",
   "metadata": {},
   "outputs": [
    {
     "data": {
      "text/html": [
       "<div>\n",
       "<style scoped>\n",
       "    .dataframe tbody tr th:only-of-type {\n",
       "        vertical-align: middle;\n",
       "    }\n",
       "\n",
       "    .dataframe tbody tr th {\n",
       "        vertical-align: top;\n",
       "    }\n",
       "\n",
       "    .dataframe thead th {\n",
       "        text-align: right;\n",
       "    }\n",
       "</style>\n",
       "<table border=\"1\" class=\"dataframe\">\n",
       "  <thead>\n",
       "    <tr style=\"text-align: right;\">\n",
       "      <th></th>\n",
       "      <th>last_name</th>\n",
       "      <th>email</th>\n",
       "    </tr>\n",
       "  </thead>\n",
       "  <tbody>\n",
       "    <tr>\n",
       "      <th>0</th>\n",
       "      <td>Gaji</td>\n",
       "      <td>gaji@123.com</td>\n",
       "    </tr>\n",
       "    <tr>\n",
       "      <th>1</th>\n",
       "      <td>Oyinda</td>\n",
       "      <td>oyin@6.com</td>\n",
       "    </tr>\n",
       "    <tr>\n",
       "      <th>2</th>\n",
       "      <td>Abdulkareem</td>\n",
       "      <td>abdul@gmail.com</td>\n",
       "    </tr>\n",
       "    <tr>\n",
       "      <th>3</th>\n",
       "      <td>Olatunji</td>\n",
       "      <td>ola@email.ng</td>\n",
       "    </tr>\n",
       "  </tbody>\n",
       "</table>\n",
       "</div>"
      ],
      "text/plain": [
       "     last_name            email\n",
       "0         Gaji     gaji@123.com\n",
       "1       Oyinda       oyin@6.com\n",
       "2  Abdulkareem  abdul@gmail.com\n",
       "3     Olatunji     ola@email.ng"
      ]
     },
     "execution_count": 9,
     "metadata": {},
     "output_type": "execute_result"
    }
   ],
   "source": [
    "# two square brackets '[[]]' to access the multiple columns\n",
    "# And pass a list\n",
    "df[['last_name', 'email']]"
   ]
  },
  {
   "cell_type": "code",
   "execution_count": 10,
   "id": "030a59d5",
   "metadata": {},
   "outputs": [
    {
     "data": {
      "text/plain": [
       "Index(['first_name', 'last_name', 'email'], dtype='object')"
      ]
     },
     "execution_count": 10,
     "metadata": {},
     "output_type": "execute_result"
    }
   ],
   "source": [
    "# This attribute provides all the columns\n",
    "df.columns"
   ]
  },
  {
   "cell_type": "code",
   "execution_count": 11,
   "id": "2f981701",
   "metadata": {},
   "outputs": [
    {
     "data": {
      "text/plain": [
       "0    gaji@123.com\n",
       "1      oyin@6.com\n",
       "Name: email, dtype: object"
      ]
     },
     "execution_count": 11,
     "metadata": {},
     "output_type": "execute_result"
    }
   ],
   "source": [
    "# To get the rows we use : loc and iloc\n",
    "# 'iloc' means: Integer location and works by specifying the index\n",
    "# We can as well get multiple rows\n",
    "# The outer integer gets the column\n",
    "df.iloc[[0, 1], 2]"
   ]
  },
  {
   "cell_type": "code",
   "execution_count": 12,
   "id": "153206f9",
   "metadata": {},
   "outputs": [
    {
     "data": {
      "text/html": [
       "<div>\n",
       "<style scoped>\n",
       "    .dataframe tbody tr th:only-of-type {\n",
       "        vertical-align: middle;\n",
       "    }\n",
       "\n",
       "    .dataframe tbody tr th {\n",
       "        vertical-align: top;\n",
       "    }\n",
       "\n",
       "    .dataframe thead th {\n",
       "        text-align: right;\n",
       "    }\n",
       "</style>\n",
       "<table border=\"1\" class=\"dataframe\">\n",
       "  <thead>\n",
       "    <tr style=\"text-align: right;\">\n",
       "      <th></th>\n",
       "      <th>first_name</th>\n",
       "      <th>last_name</th>\n",
       "      <th>email</th>\n",
       "    </tr>\n",
       "  </thead>\n",
       "  <tbody>\n",
       "    <tr>\n",
       "      <th>0</th>\n",
       "      <td>Yaqub</td>\n",
       "      <td>Gaji</td>\n",
       "      <td>gaji@123.com</td>\n",
       "    </tr>\n",
       "    <tr>\n",
       "      <th>1</th>\n",
       "      <td>Muhsina</td>\n",
       "      <td>Oyinda</td>\n",
       "      <td>oyin@6.com</td>\n",
       "    </tr>\n",
       "    <tr>\n",
       "      <th>2</th>\n",
       "      <td>Abubakar</td>\n",
       "      <td>Abdulkareem</td>\n",
       "      <td>abdul@gmail.com</td>\n",
       "    </tr>\n",
       "    <tr>\n",
       "      <th>3</th>\n",
       "      <td>Taiwo</td>\n",
       "      <td>Olatunji</td>\n",
       "      <td>ola@email.ng</td>\n",
       "    </tr>\n",
       "  </tbody>\n",
       "</table>\n",
       "</div>"
      ],
      "text/plain": [
       "  first_name    last_name            email\n",
       "0      Yaqub         Gaji     gaji@123.com\n",
       "1    Muhsina       Oyinda       oyin@6.com\n",
       "2   Abubakar  Abdulkareem  abdul@gmail.com\n",
       "3      Taiwo     Olatunji     ola@email.ng"
      ]
     },
     "execution_count": 12,
     "metadata": {},
     "output_type": "execute_result"
    }
   ],
   "source": [
    "df"
   ]
  },
  {
   "cell_type": "code",
   "execution_count": 13,
   "id": "38415345",
   "metadata": {},
   "outputs": [
    {
     "data": {
      "text/html": [
       "<div>\n",
       "<style scoped>\n",
       "    .dataframe tbody tr th:only-of-type {\n",
       "        vertical-align: middle;\n",
       "    }\n",
       "\n",
       "    .dataframe tbody tr th {\n",
       "        vertical-align: top;\n",
       "    }\n",
       "\n",
       "    .dataframe thead th {\n",
       "        text-align: right;\n",
       "    }\n",
       "</style>\n",
       "<table border=\"1\" class=\"dataframe\">\n",
       "  <thead>\n",
       "    <tr style=\"text-align: right;\">\n",
       "      <th></th>\n",
       "      <th>email</th>\n",
       "      <th>last_name</th>\n",
       "    </tr>\n",
       "  </thead>\n",
       "  <tbody>\n",
       "    <tr>\n",
       "      <th>0</th>\n",
       "      <td>gaji@123.com</td>\n",
       "      <td>Gaji</td>\n",
       "    </tr>\n",
       "    <tr>\n",
       "      <th>1</th>\n",
       "      <td>oyin@6.com</td>\n",
       "      <td>Oyinda</td>\n",
       "    </tr>\n",
       "  </tbody>\n",
       "</table>\n",
       "</div>"
      ],
      "text/plain": [
       "          email last_name\n",
       "0  gaji@123.com      Gaji\n",
       "1    oyin@6.com    Oyinda"
      ]
     },
     "execution_count": 13,
     "metadata": {},
     "output_type": "execute_result"
    }
   ],
   "source": [
    "# loc\n",
    "# 'loc' searches by indexes[labels]\n",
    "# it seems similar here but it normally works with labels\n",
    "df.loc[[0, 1], ['email', 'last_name']]"
   ]
  },
  {
   "cell_type": "markdown",
   "id": "5973e96f",
   "metadata": {},
   "source": [
    "# Indexes"
   ]
  },
  {
   "cell_type": "code",
   "execution_count": 14,
   "id": "08bf1ac6",
   "metadata": {},
   "outputs": [],
   "source": [
    "users = {\n",
    "    'first': ['Yaqub', 'Tobi', 'Anika'],\n",
    "    'last': ['Gaji', 'Bakre', 'Tiwalola'],\n",
    "    'email': ['gaji@gmail.com', 'dev@unity.com', 'anika22@udacity.ng']\n",
    "}"
   ]
  },
  {
   "cell_type": "code",
   "execution_count": 25,
   "id": "cbad76d3",
   "metadata": {},
   "outputs": [],
   "source": [
    "#Turned the python dict to data frame\n",
    "df1 = pd.DataFrame(users)"
   ]
  },
  {
   "cell_type": "code",
   "execution_count": 16,
   "id": "cfd97da7",
   "metadata": {},
   "outputs": [
    {
     "data": {
      "text/html": [
       "<div>\n",
       "<style scoped>\n",
       "    .dataframe tbody tr th:only-of-type {\n",
       "        vertical-align: middle;\n",
       "    }\n",
       "\n",
       "    .dataframe tbody tr th {\n",
       "        vertical-align: top;\n",
       "    }\n",
       "\n",
       "    .dataframe thead th {\n",
       "        text-align: right;\n",
       "    }\n",
       "</style>\n",
       "<table border=\"1\" class=\"dataframe\">\n",
       "  <thead>\n",
       "    <tr style=\"text-align: right;\">\n",
       "      <th></th>\n",
       "      <th>first</th>\n",
       "      <th>last</th>\n",
       "      <th>email</th>\n",
       "    </tr>\n",
       "  </thead>\n",
       "  <tbody>\n",
       "    <tr>\n",
       "      <th>0</th>\n",
       "      <td>Yaqub</td>\n",
       "      <td>Gaji</td>\n",
       "      <td>gaji@gmail.com</td>\n",
       "    </tr>\n",
       "    <tr>\n",
       "      <th>1</th>\n",
       "      <td>Tobi</td>\n",
       "      <td>Bakre</td>\n",
       "      <td>dev@unity.com</td>\n",
       "    </tr>\n",
       "    <tr>\n",
       "      <th>2</th>\n",
       "      <td>Anika</td>\n",
       "      <td>Tiwalola</td>\n",
       "      <td>anika22@udacity.ng</td>\n",
       "    </tr>\n",
       "  </tbody>\n",
       "</table>\n",
       "</div>"
      ],
      "text/plain": [
       "   first      last               email\n",
       "0  Yaqub      Gaji      gaji@gmail.com\n",
       "1   Tobi     Bakre       dev@unity.com\n",
       "2  Anika  Tiwalola  anika22@udacity.ng"
      ]
     },
     "execution_count": 16,
     "metadata": {},
     "output_type": "execute_result"
    }
   ],
   "source": [
    "df1"
   ]
  },
  {
   "cell_type": "code",
   "execution_count": 17,
   "id": "119105da",
   "metadata": {},
   "outputs": [
    {
     "data": {
      "text/plain": [
       "0        gaji@gmail.com\n",
       "1         dev@unity.com\n",
       "2    anika22@udacity.ng\n",
       "Name: email, dtype: object"
      ]
     },
     "execution_count": 17,
     "metadata": {},
     "output_type": "execute_result"
    }
   ],
   "source": [
    "df1['email']"
   ]
  },
  {
   "cell_type": "code",
   "execution_count": 18,
   "id": "5dfe655e",
   "metadata": {},
   "outputs": [
    {
     "data": {
      "text/html": [
       "<div>\n",
       "<style scoped>\n",
       "    .dataframe tbody tr th:only-of-type {\n",
       "        vertical-align: middle;\n",
       "    }\n",
       "\n",
       "    .dataframe tbody tr th {\n",
       "        vertical-align: top;\n",
       "    }\n",
       "\n",
       "    .dataframe thead th {\n",
       "        text-align: right;\n",
       "    }\n",
       "</style>\n",
       "<table border=\"1\" class=\"dataframe\">\n",
       "  <thead>\n",
       "    <tr style=\"text-align: right;\">\n",
       "      <th></th>\n",
       "      <th>first</th>\n",
       "      <th>last</th>\n",
       "    </tr>\n",
       "    <tr>\n",
       "      <th>email</th>\n",
       "      <th></th>\n",
       "      <th></th>\n",
       "    </tr>\n",
       "  </thead>\n",
       "  <tbody>\n",
       "    <tr>\n",
       "      <th>gaji@gmail.com</th>\n",
       "      <td>Yaqub</td>\n",
       "      <td>Gaji</td>\n",
       "    </tr>\n",
       "    <tr>\n",
       "      <th>dev@unity.com</th>\n",
       "      <td>Tobi</td>\n",
       "      <td>Bakre</td>\n",
       "    </tr>\n",
       "    <tr>\n",
       "      <th>anika22@udacity.ng</th>\n",
       "      <td>Anika</td>\n",
       "      <td>Tiwalola</td>\n",
       "    </tr>\n",
       "  </tbody>\n",
       "</table>\n",
       "</div>"
      ],
      "text/plain": [
       "                    first      last\n",
       "email                              \n",
       "gaji@gmail.com      Yaqub      Gaji\n",
       "dev@unity.com        Tobi     Bakre\n",
       "anika22@udacity.ng  Anika  Tiwalola"
      ]
     },
     "execution_count": 18,
     "metadata": {},
     "output_type": "execute_result"
    }
   ],
   "source": [
    "# Setting email addresses as the indexes\n",
    "df1.set_index('email')"
   ]
  },
  {
   "cell_type": "code",
   "execution_count": 19,
   "id": "4eeb596f",
   "metadata": {},
   "outputs": [
    {
     "data": {
      "text/html": [
       "<div>\n",
       "<style scoped>\n",
       "    .dataframe tbody tr th:only-of-type {\n",
       "        vertical-align: middle;\n",
       "    }\n",
       "\n",
       "    .dataframe tbody tr th {\n",
       "        vertical-align: top;\n",
       "    }\n",
       "\n",
       "    .dataframe thead th {\n",
       "        text-align: right;\n",
       "    }\n",
       "</style>\n",
       "<table border=\"1\" class=\"dataframe\">\n",
       "  <thead>\n",
       "    <tr style=\"text-align: right;\">\n",
       "      <th></th>\n",
       "      <th>first</th>\n",
       "      <th>last</th>\n",
       "      <th>email</th>\n",
       "    </tr>\n",
       "  </thead>\n",
       "  <tbody>\n",
       "    <tr>\n",
       "      <th>0</th>\n",
       "      <td>Yaqub</td>\n",
       "      <td>Gaji</td>\n",
       "      <td>gaji@gmail.com</td>\n",
       "    </tr>\n",
       "    <tr>\n",
       "      <th>1</th>\n",
       "      <td>Tobi</td>\n",
       "      <td>Bakre</td>\n",
       "      <td>dev@unity.com</td>\n",
       "    </tr>\n",
       "    <tr>\n",
       "      <th>2</th>\n",
       "      <td>Anika</td>\n",
       "      <td>Tiwalola</td>\n",
       "      <td>anika22@udacity.ng</td>\n",
       "    </tr>\n",
       "  </tbody>\n",
       "</table>\n",
       "</div>"
      ],
      "text/plain": [
       "   first      last               email\n",
       "0  Yaqub      Gaji      gaji@gmail.com\n",
       "1   Tobi     Bakre       dev@unity.com\n",
       "2  Anika  Tiwalola  anika22@udacity.ng"
      ]
     },
     "execution_count": 19,
     "metadata": {},
     "output_type": "execute_result"
    }
   ],
   "source": [
    "# the index is not yet set permanently here\n",
    "df1"
   ]
  },
  {
   "cell_type": "code",
   "execution_count": 20,
   "id": "8b639cd6",
   "metadata": {},
   "outputs": [],
   "source": [
    "# Setting indexes 'inplace' so they can reflect on the actual data\n",
    "df1.set_index('email', inplace=True)"
   ]
  },
  {
   "cell_type": "code",
   "execution_count": 21,
   "id": "5344ea85",
   "metadata": {},
   "outputs": [
    {
     "data": {
      "text/plain": [
       "Index(['gaji@gmail.com', 'dev@unity.com', 'anika22@udacity.ng'], dtype='object', name='email')"
      ]
     },
     "execution_count": 21,
     "metadata": {},
     "output_type": "execute_result"
    }
   ],
   "source": [
    "df1\n",
    "df1.index"
   ]
  },
  {
   "cell_type": "code",
   "execution_count": 22,
   "id": "0e06f4df",
   "metadata": {},
   "outputs": [
    {
     "data": {
      "text/plain": [
       "'Gaji'"
      ]
     },
     "execution_count": 22,
     "metadata": {},
     "output_type": "execute_result"
    }
   ],
   "source": [
    "# Now each row as a unique identifier\n",
    "df1.loc['gaji@gmail.com', 'last']"
   ]
  },
  {
   "cell_type": "code",
   "execution_count": 23,
   "id": "02bf74f7",
   "metadata": {},
   "outputs": [
    {
     "data": {
      "text/plain": [
       "first    Yaqub\n",
       "last      Gaji\n",
       "Name: gaji@gmail.com, dtype: object"
      ]
     },
     "execution_count": 23,
     "metadata": {},
     "output_type": "execute_result"
    }
   ],
   "source": [
    "# 'iloc' still works because it is an integer locator\n",
    "df1.iloc[0]"
   ]
  },
  {
   "cell_type": "code",
   "execution_count": 24,
   "id": "d81d7ad6",
   "metadata": {},
   "outputs": [],
   "source": [
    "# This is to reset the data index\n",
    "df1.reset_index(inplace= True)"
   ]
  },
  {
   "cell_type": "code",
   "execution_count": null,
   "id": "c29145e1",
   "metadata": {},
   "outputs": [],
   "source": []
  }
 ],
 "metadata": {
  "kernelspec": {
   "display_name": "Python 3 (ipykernel)",
   "language": "python",
   "name": "python3"
  },
  "language_info": {
   "codemirror_mode": {
    "name": "ipython",
    "version": 3
   },
   "file_extension": ".py",
   "mimetype": "text/x-python",
   "name": "python",
   "nbconvert_exporter": "python",
   "pygments_lexer": "ipython3",
   "version": "3.9.12"
  }
 },
 "nbformat": 4,
 "nbformat_minor": 5
}
