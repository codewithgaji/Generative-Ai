{
 "cells": [
  {
   "cell_type": "code",
   "execution_count": 6,
   "id": "08244663",
   "metadata": {},
   "outputs": [],
   "source": [
    "people = {\n",
    "    'first' : ['Yaqub', 'Muhsina', 'Abubakar', 'Taiwo'],\n",
    "    'last' : ['Gaji', 'Abdulkareem', 'Abdulkareem', 'Olatunji'],\n",
    "    'email': ['gaji@123.com', 'oyin@6.com', 'abdul@gmail.com', 'ola@gmail.ng']\n",
    "}"
   ]
  },
  {
   "cell_type": "code",
   "execution_count": 7,
   "id": "a3c5c9c1",
   "metadata": {},
   "outputs": [],
   "source": [
    "import pandas as pd"
   ]
  },
  {
   "cell_type": "code",
   "execution_count": 8,
   "id": "9ade0c57",
   "metadata": {},
   "outputs": [],
   "source": [
    "df = pd.DataFrame(people)"
   ]
  },
  {
   "cell_type": "code",
   "execution_count": 9,
   "id": "cd3b7683",
   "metadata": {},
   "outputs": [
    {
     "data": {
      "text/html": [
       "<div>\n",
       "<style scoped>\n",
       "    .dataframe tbody tr th:only-of-type {\n",
       "        vertical-align: middle;\n",
       "    }\n",
       "\n",
       "    .dataframe tbody tr th {\n",
       "        vertical-align: top;\n",
       "    }\n",
       "\n",
       "    .dataframe thead th {\n",
       "        text-align: right;\n",
       "    }\n",
       "</style>\n",
       "<table border=\"1\" class=\"dataframe\">\n",
       "  <thead>\n",
       "    <tr style=\"text-align: right;\">\n",
       "      <th></th>\n",
       "      <th>first</th>\n",
       "      <th>last</th>\n",
       "      <th>email</th>\n",
       "    </tr>\n",
       "  </thead>\n",
       "  <tbody>\n",
       "    <tr>\n",
       "      <th>0</th>\n",
       "      <td>Yaqub</td>\n",
       "      <td>Gaji</td>\n",
       "      <td>gaji@123.com</td>\n",
       "    </tr>\n",
       "    <tr>\n",
       "      <th>1</th>\n",
       "      <td>Muhsina</td>\n",
       "      <td>Abdulkareem</td>\n",
       "      <td>oyin@6.com</td>\n",
       "    </tr>\n",
       "    <tr>\n",
       "      <th>2</th>\n",
       "      <td>Abubakar</td>\n",
       "      <td>Abdulkareem</td>\n",
       "      <td>abdul@gmail.com</td>\n",
       "    </tr>\n",
       "    <tr>\n",
       "      <th>3</th>\n",
       "      <td>Taiwo</td>\n",
       "      <td>Olatunji</td>\n",
       "      <td>ola@gmail.ng</td>\n",
       "    </tr>\n",
       "  </tbody>\n",
       "</table>\n",
       "</div>"
      ],
      "text/plain": [
       "      first         last            email\n",
       "0     Yaqub         Gaji     gaji@123.com\n",
       "1   Muhsina  Abdulkareem       oyin@6.com\n",
       "2  Abubakar  Abdulkareem  abdul@gmail.com\n",
       "3     Taiwo     Olatunji     ola@gmail.ng"
      ]
     },
     "execution_count": 9,
     "metadata": {},
     "output_type": "execute_result"
    }
   ],
   "source": [
    "df"
   ]
  },
  {
   "cell_type": "code",
   "execution_count": 11,
   "id": "301b0575",
   "metadata": {},
   "outputs": [
    {
     "data": {
      "text/plain": [
       "0              Yaqub Gaji\n",
       "1     Muhsina Abdulkareem\n",
       "2    Abubakar Abdulkareem\n",
       "3          Taiwo Olatunji\n",
       "dtype: object"
      ]
     },
     "execution_count": 11,
     "metadata": {},
     "output_type": "execute_result"
    }
   ],
   "source": [
    "# COmbining First and Last name into a single column\n",
    "df['first'] + ' ' + df['last']"
   ]
  },
  {
   "cell_type": "code",
   "execution_count": 12,
   "id": "23c7987b",
   "metadata": {},
   "outputs": [],
   "source": [
    "df['full_name'] = df['first'] + ' ' + df['last']"
   ]
  },
  {
   "cell_type": "code",
   "execution_count": 14,
   "id": "4a5a3bc5",
   "metadata": {},
   "outputs": [
    {
     "data": {
      "text/html": [
       "<div>\n",
       "<style scoped>\n",
       "    .dataframe tbody tr th:only-of-type {\n",
       "        vertical-align: middle;\n",
       "    }\n",
       "\n",
       "    .dataframe tbody tr th {\n",
       "        vertical-align: top;\n",
       "    }\n",
       "\n",
       "    .dataframe thead th {\n",
       "        text-align: right;\n",
       "    }\n",
       "</style>\n",
       "<table border=\"1\" class=\"dataframe\">\n",
       "  <thead>\n",
       "    <tr style=\"text-align: right;\">\n",
       "      <th></th>\n",
       "      <th>first</th>\n",
       "      <th>last</th>\n",
       "      <th>email</th>\n",
       "      <th>full_name</th>\n",
       "    </tr>\n",
       "  </thead>\n",
       "  <tbody>\n",
       "    <tr>\n",
       "      <th>0</th>\n",
       "      <td>Yaqub</td>\n",
       "      <td>Gaji</td>\n",
       "      <td>gaji@123.com</td>\n",
       "      <td>Yaqub Gaji</td>\n",
       "    </tr>\n",
       "    <tr>\n",
       "      <th>1</th>\n",
       "      <td>Muhsina</td>\n",
       "      <td>Abdulkareem</td>\n",
       "      <td>oyin@6.com</td>\n",
       "      <td>Muhsina Abdulkareem</td>\n",
       "    </tr>\n",
       "    <tr>\n",
       "      <th>2</th>\n",
       "      <td>Abubakar</td>\n",
       "      <td>Abdulkareem</td>\n",
       "      <td>abdul@gmail.com</td>\n",
       "      <td>Abubakar Abdulkareem</td>\n",
       "    </tr>\n",
       "    <tr>\n",
       "      <th>3</th>\n",
       "      <td>Taiwo</td>\n",
       "      <td>Olatunji</td>\n",
       "      <td>ola@gmail.ng</td>\n",
       "      <td>Taiwo Olatunji</td>\n",
       "    </tr>\n",
       "  </tbody>\n",
       "</table>\n",
       "</div>"
      ],
      "text/plain": [
       "      first         last            email             full_name\n",
       "0     Yaqub         Gaji     gaji@123.com            Yaqub Gaji\n",
       "1   Muhsina  Abdulkareem       oyin@6.com   Muhsina Abdulkareem\n",
       "2  Abubakar  Abdulkareem  abdul@gmail.com  Abubakar Abdulkareem\n",
       "3     Taiwo     Olatunji     ola@gmail.ng        Taiwo Olatunji"
      ]
     },
     "execution_count": 14,
     "metadata": {},
     "output_type": "execute_result"
    }
   ],
   "source": [
    "# Now we can see that we have created a column for the \n",
    "# full_name\n",
    "df"
   ]
  },
  {
   "cell_type": "code",
   "execution_count": 15,
   "id": "ae83d162",
   "metadata": {},
   "outputs": [],
   "source": [
    "# we can Use the 'apply' method in assigning a new column\n",
    "# '.' notations can not be used to asssign a new column"
   ]
  },
  {
   "cell_type": "markdown",
   "id": "79999d2d",
   "metadata": {},
   "source": [
    "REMOVING COLUMNS/ROWS"
   ]
  },
  {
   "cell_type": "code",
   "execution_count": null,
   "id": "a66b44d0",
   "metadata": {},
   "outputs": [],
   "source": [
    "# Using the 'drop' method to remove a column\n",
    "# We need to set 'inplace=True' if we want it to change the \n",
    "# data permanently without the first and last name\n",
    "df.drop(columns=['first', 'last'], inplace = True)"
   ]
  },
  {
   "cell_type": "code",
   "execution_count": 21,
   "id": "4cf34f3f",
   "metadata": {},
   "outputs": [
    {
     "data": {
      "text/html": [
       "<div>\n",
       "<style scoped>\n",
       "    .dataframe tbody tr th:only-of-type {\n",
       "        vertical-align: middle;\n",
       "    }\n",
       "\n",
       "    .dataframe tbody tr th {\n",
       "        vertical-align: top;\n",
       "    }\n",
       "\n",
       "    .dataframe thead th {\n",
       "        text-align: right;\n",
       "    }\n",
       "</style>\n",
       "<table border=\"1\" class=\"dataframe\">\n",
       "  <thead>\n",
       "    <tr style=\"text-align: right;\">\n",
       "      <th></th>\n",
       "      <th>email</th>\n",
       "      <th>full_name</th>\n",
       "    </tr>\n",
       "  </thead>\n",
       "  <tbody>\n",
       "    <tr>\n",
       "      <th>0</th>\n",
       "      <td>gaji@123.com</td>\n",
       "      <td>Yaqub Gaji</td>\n",
       "    </tr>\n",
       "    <tr>\n",
       "      <th>1</th>\n",
       "      <td>oyin@6.com</td>\n",
       "      <td>Muhsina Abdulkareem</td>\n",
       "    </tr>\n",
       "    <tr>\n",
       "      <th>2</th>\n",
       "      <td>abdul@gmail.com</td>\n",
       "      <td>Abubakar Abdulkareem</td>\n",
       "    </tr>\n",
       "    <tr>\n",
       "      <th>3</th>\n",
       "      <td>ola@gmail.ng</td>\n",
       "      <td>Taiwo Olatunji</td>\n",
       "    </tr>\n",
       "  </tbody>\n",
       "</table>\n",
       "</div>"
      ],
      "text/plain": [
       "             email             full_name\n",
       "0     gaji@123.com            Yaqub Gaji\n",
       "1       oyin@6.com   Muhsina Abdulkareem\n",
       "2  abdul@gmail.com  Abubakar Abdulkareem\n",
       "3     ola@gmail.ng        Taiwo Olatunji"
      ]
     },
     "execution_count": 21,
     "metadata": {},
     "output_type": "execute_result"
    }
   ],
   "source": [
    "df"
   ]
  },
  {
   "cell_type": "markdown",
   "id": "bbd6356f",
   "metadata": {},
   "source": [
    "Reversing the process"
   ]
  },
  {
   "cell_type": "code",
   "execution_count": 22,
   "id": "b109c7a8",
   "metadata": {},
   "outputs": [
    {
     "data": {
      "text/plain": [
       "0              [Yaqub, Gaji]\n",
       "1     [Muhsina, Abdulkareem]\n",
       "2    [Abubakar, Abdulkareem]\n",
       "3          [Taiwo, Olatunji]\n",
       "Name: full_name, dtype: object"
      ]
     },
     "execution_count": 22,
     "metadata": {},
     "output_type": "execute_result"
    }
   ],
   "source": [
    "# Using the 'split()' method\n",
    "df['full_name'].str.split(' ')"
   ]
  },
  {
   "cell_type": "code",
   "execution_count": 23,
   "id": "e0e9f146",
   "metadata": {},
   "outputs": [
    {
     "data": {
      "text/html": [
       "<div>\n",
       "<style scoped>\n",
       "    .dataframe tbody tr th:only-of-type {\n",
       "        vertical-align: middle;\n",
       "    }\n",
       "\n",
       "    .dataframe tbody tr th {\n",
       "        vertical-align: top;\n",
       "    }\n",
       "\n",
       "    .dataframe thead th {\n",
       "        text-align: right;\n",
       "    }\n",
       "</style>\n",
       "<table border=\"1\" class=\"dataframe\">\n",
       "  <thead>\n",
       "    <tr style=\"text-align: right;\">\n",
       "      <th></th>\n",
       "      <th>0</th>\n",
       "      <th>1</th>\n",
       "    </tr>\n",
       "  </thead>\n",
       "  <tbody>\n",
       "    <tr>\n",
       "      <th>0</th>\n",
       "      <td>Yaqub</td>\n",
       "      <td>Gaji</td>\n",
       "    </tr>\n",
       "    <tr>\n",
       "      <th>1</th>\n",
       "      <td>Muhsina</td>\n",
       "      <td>Abdulkareem</td>\n",
       "    </tr>\n",
       "    <tr>\n",
       "      <th>2</th>\n",
       "      <td>Abubakar</td>\n",
       "      <td>Abdulkareem</td>\n",
       "    </tr>\n",
       "    <tr>\n",
       "      <th>3</th>\n",
       "      <td>Taiwo</td>\n",
       "      <td>Olatunji</td>\n",
       "    </tr>\n",
       "  </tbody>\n",
       "</table>\n",
       "</div>"
      ],
      "text/plain": [
       "          0            1\n",
       "0     Yaqub         Gaji\n",
       "1   Muhsina  Abdulkareem\n",
       "2  Abubakar  Abdulkareem\n",
       "3     Taiwo     Olatunji"
      ]
     },
     "execution_count": 23,
     "metadata": {},
     "output_type": "execute_result"
    }
   ],
   "source": [
    "# Expanding\n",
    "df['full_name'].str.split(' ', expand=True)"
   ]
  },
  {
   "cell_type": "code",
   "execution_count": 24,
   "id": "b10eec6e",
   "metadata": {},
   "outputs": [],
   "source": [
    "# To access multiple columns we use 2 brackets [[]]\n",
    "# And the innner bracket is the list of columns\n",
    "df[['first', 'last']] = df['full_name'].str.split(' ', expand=True)"
   ]
  },
  {
   "cell_type": "code",
   "execution_count": 25,
   "id": "b1082323",
   "metadata": {},
   "outputs": [
    {
     "data": {
      "text/html": [
       "<div>\n",
       "<style scoped>\n",
       "    .dataframe tbody tr th:only-of-type {\n",
       "        vertical-align: middle;\n",
       "    }\n",
       "\n",
       "    .dataframe tbody tr th {\n",
       "        vertical-align: top;\n",
       "    }\n",
       "\n",
       "    .dataframe thead th {\n",
       "        text-align: right;\n",
       "    }\n",
       "</style>\n",
       "<table border=\"1\" class=\"dataframe\">\n",
       "  <thead>\n",
       "    <tr style=\"text-align: right;\">\n",
       "      <th></th>\n",
       "      <th>email</th>\n",
       "      <th>full_name</th>\n",
       "      <th>first</th>\n",
       "      <th>last</th>\n",
       "    </tr>\n",
       "  </thead>\n",
       "  <tbody>\n",
       "    <tr>\n",
       "      <th>0</th>\n",
       "      <td>gaji@123.com</td>\n",
       "      <td>Yaqub Gaji</td>\n",
       "      <td>Yaqub</td>\n",
       "      <td>Gaji</td>\n",
       "    </tr>\n",
       "    <tr>\n",
       "      <th>1</th>\n",
       "      <td>oyin@6.com</td>\n",
       "      <td>Muhsina Abdulkareem</td>\n",
       "      <td>Muhsina</td>\n",
       "      <td>Abdulkareem</td>\n",
       "    </tr>\n",
       "    <tr>\n",
       "      <th>2</th>\n",
       "      <td>abdul@gmail.com</td>\n",
       "      <td>Abubakar Abdulkareem</td>\n",
       "      <td>Abubakar</td>\n",
       "      <td>Abdulkareem</td>\n",
       "    </tr>\n",
       "    <tr>\n",
       "      <th>3</th>\n",
       "      <td>ola@gmail.ng</td>\n",
       "      <td>Taiwo Olatunji</td>\n",
       "      <td>Taiwo</td>\n",
       "      <td>Olatunji</td>\n",
       "    </tr>\n",
       "  </tbody>\n",
       "</table>\n",
       "</div>"
      ],
      "text/plain": [
       "             email             full_name     first         last\n",
       "0     gaji@123.com            Yaqub Gaji     Yaqub         Gaji\n",
       "1       oyin@6.com   Muhsina Abdulkareem   Muhsina  Abdulkareem\n",
       "2  abdul@gmail.com  Abubakar Abdulkareem  Abubakar  Abdulkareem\n",
       "3     ola@gmail.ng        Taiwo Olatunji     Taiwo     Olatunji"
      ]
     },
     "execution_count": 25,
     "metadata": {},
     "output_type": "execute_result"
    }
   ],
   "source": [
    "# This is how to add and remove a column\n",
    "df"
   ]
  },
  {
   "cell_type": "markdown",
   "id": "dbabd9ff",
   "metadata": {},
   "source": [
    "APPENDING ROWS"
   ]
  },
  {
   "cell_type": "code",
   "execution_count": 27,
   "id": "2a532314",
   "metadata": {},
   "outputs": [
    {
     "name": "stderr",
     "output_type": "stream",
     "text": [
      "C:\\Users\\YK Gaji\\AppData\\Local\\Temp\\ipykernel_3228\\67547244.py:1: FutureWarning: The frame.append method is deprecated and will be removed from pandas in a future version. Use pandas.concat instead.\n",
      "  df.append({'first': 'Tony'}, ignore_index=True)\n"
     ]
    },
    {
     "data": {
      "text/html": [
       "<div>\n",
       "<style scoped>\n",
       "    .dataframe tbody tr th:only-of-type {\n",
       "        vertical-align: middle;\n",
       "    }\n",
       "\n",
       "    .dataframe tbody tr th {\n",
       "        vertical-align: top;\n",
       "    }\n",
       "\n",
       "    .dataframe thead th {\n",
       "        text-align: right;\n",
       "    }\n",
       "</style>\n",
       "<table border=\"1\" class=\"dataframe\">\n",
       "  <thead>\n",
       "    <tr style=\"text-align: right;\">\n",
       "      <th></th>\n",
       "      <th>email</th>\n",
       "      <th>full_name</th>\n",
       "      <th>first</th>\n",
       "      <th>last</th>\n",
       "    </tr>\n",
       "  </thead>\n",
       "  <tbody>\n",
       "    <tr>\n",
       "      <th>0</th>\n",
       "      <td>gaji@123.com</td>\n",
       "      <td>Yaqub Gaji</td>\n",
       "      <td>Yaqub</td>\n",
       "      <td>Gaji</td>\n",
       "    </tr>\n",
       "    <tr>\n",
       "      <th>1</th>\n",
       "      <td>oyin@6.com</td>\n",
       "      <td>Muhsina Abdulkareem</td>\n",
       "      <td>Muhsina</td>\n",
       "      <td>Abdulkareem</td>\n",
       "    </tr>\n",
       "    <tr>\n",
       "      <th>2</th>\n",
       "      <td>abdul@gmail.com</td>\n",
       "      <td>Abubakar Abdulkareem</td>\n",
       "      <td>Abubakar</td>\n",
       "      <td>Abdulkareem</td>\n",
       "    </tr>\n",
       "    <tr>\n",
       "      <th>3</th>\n",
       "      <td>ola@gmail.ng</td>\n",
       "      <td>Taiwo Olatunji</td>\n",
       "      <td>Taiwo</td>\n",
       "      <td>Olatunji</td>\n",
       "    </tr>\n",
       "    <tr>\n",
       "      <th>4</th>\n",
       "      <td>NaN</td>\n",
       "      <td>NaN</td>\n",
       "      <td>Tony</td>\n",
       "      <td>NaN</td>\n",
       "    </tr>\n",
       "  </tbody>\n",
       "</table>\n",
       "</div>"
      ],
      "text/plain": [
       "             email             full_name     first         last\n",
       "0     gaji@123.com            Yaqub Gaji     Yaqub         Gaji\n",
       "1       oyin@6.com   Muhsina Abdulkareem   Muhsina  Abdulkareem\n",
       "2  abdul@gmail.com  Abubakar Abdulkareem  Abubakar  Abdulkareem\n",
       "3     ola@gmail.ng        Taiwo Olatunji     Taiwo     Olatunji\n",
       "4              NaN                   NaN      Tony          NaN"
      ]
     },
     "execution_count": 27,
     "metadata": {},
     "output_type": "execute_result"
    }
   ],
   "source": [
    "# without the usage of 'ignore_index=True' it will result\n",
    "# in an error\n",
    "df.append({'first': 'Tony'}, ignore_index=True)"
   ]
  },
  {
   "cell_type": "markdown",
   "id": "c1cba5ad",
   "metadata": {},
   "source": [
    "USING A SLIGHTLY MODIFIED DATA TO EXPLAIN"
   ]
  },
  {
   "cell_type": "code",
   "execution_count": 29,
   "id": "47830e00",
   "metadata": {},
   "outputs": [],
   "source": [
    "people = {\n",
    "    'first' : ['Yaqub', 'Abubakar'],\n",
    "    'last' : ['Dawodu', 'Ayanda'],\n",
    "    'email': ['IronMan@avenge.com', 'Cap@avenge.com']\n",
    "}\n",
    "\n",
    "df2 = pd.DataFrame(people)"
   ]
  },
  {
   "cell_type": "code",
   "execution_count": 30,
   "id": "5c33220e",
   "metadata": {},
   "outputs": [
    {
     "data": {
      "text/html": [
       "<div>\n",
       "<style scoped>\n",
       "    .dataframe tbody tr th:only-of-type {\n",
       "        vertical-align: middle;\n",
       "    }\n",
       "\n",
       "    .dataframe tbody tr th {\n",
       "        vertical-align: top;\n",
       "    }\n",
       "\n",
       "    .dataframe thead th {\n",
       "        text-align: right;\n",
       "    }\n",
       "</style>\n",
       "<table border=\"1\" class=\"dataframe\">\n",
       "  <thead>\n",
       "    <tr style=\"text-align: right;\">\n",
       "      <th></th>\n",
       "      <th>first</th>\n",
       "      <th>last</th>\n",
       "      <th>email</th>\n",
       "    </tr>\n",
       "  </thead>\n",
       "  <tbody>\n",
       "    <tr>\n",
       "      <th>0</th>\n",
       "      <td>Yaqub</td>\n",
       "      <td>Dawodu</td>\n",
       "      <td>IronMan@avenge.com</td>\n",
       "    </tr>\n",
       "    <tr>\n",
       "      <th>1</th>\n",
       "      <td>Abubakar</td>\n",
       "      <td>Ayanda</td>\n",
       "      <td>Cap@avenge.com</td>\n",
       "    </tr>\n",
       "  </tbody>\n",
       "</table>\n",
       "</div>"
      ],
      "text/plain": [
       "      first    last               email\n",
       "0     Yaqub  Dawodu  IronMan@avenge.com\n",
       "1  Abubakar  Ayanda      Cap@avenge.com"
      ]
     },
     "execution_count": 30,
     "metadata": {},
     "output_type": "execute_result"
    }
   ],
   "source": [
    "df2"
   ]
  },
  {
   "cell_type": "markdown",
   "id": "9ff650d5",
   "metadata": {},
   "source": [
    "Adding a Data frame to an existing Data Frame"
   ]
  },
  {
   "cell_type": "code",
   "execution_count": 34,
   "id": "7718f5ec",
   "metadata": {},
   "outputs": [
    {
     "name": "stderr",
     "output_type": "stream",
     "text": [
      "C:\\Users\\YK Gaji\\AppData\\Local\\Temp\\ipykernel_3228\\3326382358.py:5: FutureWarning: The frame.append method is deprecated and will be removed from pandas in a future version. Use pandas.concat instead.\n",
      "  df.append(df2, ignore_index=True, sort=False)\n"
     ]
    },
    {
     "data": {
      "text/html": [
       "<div>\n",
       "<style scoped>\n",
       "    .dataframe tbody tr th:only-of-type {\n",
       "        vertical-align: middle;\n",
       "    }\n",
       "\n",
       "    .dataframe tbody tr th {\n",
       "        vertical-align: top;\n",
       "    }\n",
       "\n",
       "    .dataframe thead th {\n",
       "        text-align: right;\n",
       "    }\n",
       "</style>\n",
       "<table border=\"1\" class=\"dataframe\">\n",
       "  <thead>\n",
       "    <tr style=\"text-align: right;\">\n",
       "      <th></th>\n",
       "      <th>email</th>\n",
       "      <th>full_name</th>\n",
       "      <th>first</th>\n",
       "      <th>last</th>\n",
       "    </tr>\n",
       "  </thead>\n",
       "  <tbody>\n",
       "    <tr>\n",
       "      <th>0</th>\n",
       "      <td>gaji@123.com</td>\n",
       "      <td>Yaqub Gaji</td>\n",
       "      <td>Yaqub</td>\n",
       "      <td>Gaji</td>\n",
       "    </tr>\n",
       "    <tr>\n",
       "      <th>1</th>\n",
       "      <td>oyin@6.com</td>\n",
       "      <td>Muhsina Abdulkareem</td>\n",
       "      <td>Muhsina</td>\n",
       "      <td>Abdulkareem</td>\n",
       "    </tr>\n",
       "    <tr>\n",
       "      <th>2</th>\n",
       "      <td>abdul@gmail.com</td>\n",
       "      <td>Abubakar Abdulkareem</td>\n",
       "      <td>Abubakar</td>\n",
       "      <td>Abdulkareem</td>\n",
       "    </tr>\n",
       "    <tr>\n",
       "      <th>3</th>\n",
       "      <td>ola@gmail.ng</td>\n",
       "      <td>Taiwo Olatunji</td>\n",
       "      <td>Taiwo</td>\n",
       "      <td>Olatunji</td>\n",
       "    </tr>\n",
       "    <tr>\n",
       "      <th>4</th>\n",
       "      <td>IronMan@avenge.com</td>\n",
       "      <td>NaN</td>\n",
       "      <td>Yaqub</td>\n",
       "      <td>Dawodu</td>\n",
       "    </tr>\n",
       "    <tr>\n",
       "      <th>5</th>\n",
       "      <td>Cap@avenge.com</td>\n",
       "      <td>NaN</td>\n",
       "      <td>Abubakar</td>\n",
       "      <td>Ayanda</td>\n",
       "    </tr>\n",
       "  </tbody>\n",
       "</table>\n",
       "</div>"
      ],
      "text/plain": [
       "                email             full_name     first         last\n",
       "0        gaji@123.com            Yaqub Gaji     Yaqub         Gaji\n",
       "1          oyin@6.com   Muhsina Abdulkareem   Muhsina  Abdulkareem\n",
       "2     abdul@gmail.com  Abubakar Abdulkareem  Abubakar  Abdulkareem\n",
       "3        ola@gmail.ng        Taiwo Olatunji     Taiwo     Olatunji\n",
       "4  IronMan@avenge.com                   NaN     Yaqub       Dawodu\n",
       "5      Cap@avenge.com                   NaN  Abubakar       Ayanda"
      ]
     },
     "execution_count": 34,
     "metadata": {},
     "output_type": "execute_result"
    }
   ],
   "source": [
    "# Don't forget they have conflicting indexes\n",
    "# Also the rows and columns are not the same\n",
    "# So we use the 'ignore_index=True' to override the data\n",
    "# The 'sort=False' is used to not sort the data frame\n",
    "df.append(df2, ignore_index=True, sort=False)\n"
   ]
  },
  {
   "cell_type": "code",
   "execution_count": 38,
   "id": "603a1b3f",
   "metadata": {},
   "outputs": [],
   "source": [
    "# Saving the data requres re-assigning not using 'inplace=True'\n",
    "# The 'append' method doesn't have 'inplace=True'"
   ]
  },
  {
   "cell_type": "code",
   "execution_count": 39,
   "id": "e4b385df",
   "metadata": {},
   "outputs": [
    {
     "name": "stderr",
     "output_type": "stream",
     "text": [
      "C:\\Users\\YK Gaji\\AppData\\Local\\Temp\\ipykernel_3228\\3370980109.py:1: FutureWarning: The frame.append method is deprecated and will be removed from pandas in a future version. Use pandas.concat instead.\n",
      "  df = df.append(df2, ignore_index=True, sort=False)\n"
     ]
    }
   ],
   "source": [
    "df = df.append(df2, ignore_index=True, sort=False)"
   ]
  },
  {
   "cell_type": "code",
   "execution_count": 40,
   "id": "e4de859d",
   "metadata": {},
   "outputs": [
    {
     "data": {
      "text/html": [
       "<div>\n",
       "<style scoped>\n",
       "    .dataframe tbody tr th:only-of-type {\n",
       "        vertical-align: middle;\n",
       "    }\n",
       "\n",
       "    .dataframe tbody tr th {\n",
       "        vertical-align: top;\n",
       "    }\n",
       "\n",
       "    .dataframe thead th {\n",
       "        text-align: right;\n",
       "    }\n",
       "</style>\n",
       "<table border=\"1\" class=\"dataframe\">\n",
       "  <thead>\n",
       "    <tr style=\"text-align: right;\">\n",
       "      <th></th>\n",
       "      <th>email</th>\n",
       "      <th>full_name</th>\n",
       "      <th>first</th>\n",
       "      <th>last</th>\n",
       "    </tr>\n",
       "  </thead>\n",
       "  <tbody>\n",
       "    <tr>\n",
       "      <th>0</th>\n",
       "      <td>gaji@123.com</td>\n",
       "      <td>Yaqub Gaji</td>\n",
       "      <td>Yaqub</td>\n",
       "      <td>Gaji</td>\n",
       "    </tr>\n",
       "    <tr>\n",
       "      <th>1</th>\n",
       "      <td>oyin@6.com</td>\n",
       "      <td>Muhsina Abdulkareem</td>\n",
       "      <td>Muhsina</td>\n",
       "      <td>Abdulkareem</td>\n",
       "    </tr>\n",
       "    <tr>\n",
       "      <th>2</th>\n",
       "      <td>abdul@gmail.com</td>\n",
       "      <td>Abubakar Abdulkareem</td>\n",
       "      <td>Abubakar</td>\n",
       "      <td>Abdulkareem</td>\n",
       "    </tr>\n",
       "    <tr>\n",
       "      <th>3</th>\n",
       "      <td>ola@gmail.ng</td>\n",
       "      <td>Taiwo Olatunji</td>\n",
       "      <td>Taiwo</td>\n",
       "      <td>Olatunji</td>\n",
       "    </tr>\n",
       "    <tr>\n",
       "      <th>4</th>\n",
       "      <td>IronMan@avenge.com</td>\n",
       "      <td>NaN</td>\n",
       "      <td>Yaqub</td>\n",
       "      <td>Dawodu</td>\n",
       "    </tr>\n",
       "    <tr>\n",
       "      <th>5</th>\n",
       "      <td>Cap@avenge.com</td>\n",
       "      <td>NaN</td>\n",
       "      <td>Abubakar</td>\n",
       "      <td>Ayanda</td>\n",
       "    </tr>\n",
       "    <tr>\n",
       "      <th>6</th>\n",
       "      <td>IronMan@avenge.com</td>\n",
       "      <td>NaN</td>\n",
       "      <td>Yaqub</td>\n",
       "      <td>Dawodu</td>\n",
       "    </tr>\n",
       "    <tr>\n",
       "      <th>7</th>\n",
       "      <td>Cap@avenge.com</td>\n",
       "      <td>NaN</td>\n",
       "      <td>Abubakar</td>\n",
       "      <td>Ayanda</td>\n",
       "    </tr>\n",
       "  </tbody>\n",
       "</table>\n",
       "</div>"
      ],
      "text/plain": [
       "                email             full_name     first         last\n",
       "0        gaji@123.com            Yaqub Gaji     Yaqub         Gaji\n",
       "1          oyin@6.com   Muhsina Abdulkareem   Muhsina  Abdulkareem\n",
       "2     abdul@gmail.com  Abubakar Abdulkareem  Abubakar  Abdulkareem\n",
       "3        ola@gmail.ng        Taiwo Olatunji     Taiwo     Olatunji\n",
       "4  IronMan@avenge.com                   NaN     Yaqub       Dawodu\n",
       "5      Cap@avenge.com                   NaN  Abubakar       Ayanda\n",
       "6  IronMan@avenge.com                   NaN     Yaqub       Dawodu\n",
       "7      Cap@avenge.com                   NaN  Abubakar       Ayanda"
      ]
     },
     "execution_count": 40,
     "metadata": {},
     "output_type": "execute_result"
    }
   ],
   "source": [
    "df"
   ]
  },
  {
   "cell_type": "markdown",
   "id": "7b42ed69",
   "metadata": {},
   "source": [
    "REMOVING ROWS"
   ]
  },
  {
   "cell_type": "code",
   "execution_count": 41,
   "id": "e269e578",
   "metadata": {},
   "outputs": [
    {
     "data": {
      "text/html": [
       "<div>\n",
       "<style scoped>\n",
       "    .dataframe tbody tr th:only-of-type {\n",
       "        vertical-align: middle;\n",
       "    }\n",
       "\n",
       "    .dataframe tbody tr th {\n",
       "        vertical-align: top;\n",
       "    }\n",
       "\n",
       "    .dataframe thead th {\n",
       "        text-align: right;\n",
       "    }\n",
       "</style>\n",
       "<table border=\"1\" class=\"dataframe\">\n",
       "  <thead>\n",
       "    <tr style=\"text-align: right;\">\n",
       "      <th></th>\n",
       "      <th>email</th>\n",
       "      <th>full_name</th>\n",
       "      <th>first</th>\n",
       "      <th>last</th>\n",
       "    </tr>\n",
       "  </thead>\n",
       "  <tbody>\n",
       "    <tr>\n",
       "      <th>0</th>\n",
       "      <td>gaji@123.com</td>\n",
       "      <td>Yaqub Gaji</td>\n",
       "      <td>Yaqub</td>\n",
       "      <td>Gaji</td>\n",
       "    </tr>\n",
       "    <tr>\n",
       "      <th>1</th>\n",
       "      <td>oyin@6.com</td>\n",
       "      <td>Muhsina Abdulkareem</td>\n",
       "      <td>Muhsina</td>\n",
       "      <td>Abdulkareem</td>\n",
       "    </tr>\n",
       "    <tr>\n",
       "      <th>2</th>\n",
       "      <td>abdul@gmail.com</td>\n",
       "      <td>Abubakar Abdulkareem</td>\n",
       "      <td>Abubakar</td>\n",
       "      <td>Abdulkareem</td>\n",
       "    </tr>\n",
       "    <tr>\n",
       "      <th>3</th>\n",
       "      <td>ola@gmail.ng</td>\n",
       "      <td>Taiwo Olatunji</td>\n",
       "      <td>Taiwo</td>\n",
       "      <td>Olatunji</td>\n",
       "    </tr>\n",
       "    <tr>\n",
       "      <th>5</th>\n",
       "      <td>Cap@avenge.com</td>\n",
       "      <td>NaN</td>\n",
       "      <td>Abubakar</td>\n",
       "      <td>Ayanda</td>\n",
       "    </tr>\n",
       "    <tr>\n",
       "      <th>6</th>\n",
       "      <td>IronMan@avenge.com</td>\n",
       "      <td>NaN</td>\n",
       "      <td>Yaqub</td>\n",
       "      <td>Dawodu</td>\n",
       "    </tr>\n",
       "    <tr>\n",
       "      <th>7</th>\n",
       "      <td>Cap@avenge.com</td>\n",
       "      <td>NaN</td>\n",
       "      <td>Abubakar</td>\n",
       "      <td>Ayanda</td>\n",
       "    </tr>\n",
       "  </tbody>\n",
       "</table>\n",
       "</div>"
      ],
      "text/plain": [
       "                email             full_name     first         last\n",
       "0        gaji@123.com            Yaqub Gaji     Yaqub         Gaji\n",
       "1          oyin@6.com   Muhsina Abdulkareem   Muhsina  Abdulkareem\n",
       "2     abdul@gmail.com  Abubakar Abdulkareem  Abubakar  Abdulkareem\n",
       "3        ola@gmail.ng        Taiwo Olatunji     Taiwo     Olatunji\n",
       "5      Cap@avenge.com                   NaN  Abubakar       Ayanda\n",
       "6  IronMan@avenge.com                   NaN     Yaqub       Dawodu\n",
       "7      Cap@avenge.com                   NaN  Abubakar       Ayanda"
      ]
     },
     "execution_count": 41,
     "metadata": {},
     "output_type": "execute_result"
    }
   ],
   "source": [
    "df.drop(index=4)"
   ]
  },
  {
   "cell_type": "code",
   "execution_count": 47,
   "id": "f7cbe9b7",
   "metadata": {},
   "outputs": [
    {
     "data": {
      "text/html": [
       "<div>\n",
       "<style scoped>\n",
       "    .dataframe tbody tr th:only-of-type {\n",
       "        vertical-align: middle;\n",
       "    }\n",
       "\n",
       "    .dataframe tbody tr th {\n",
       "        vertical-align: top;\n",
       "    }\n",
       "\n",
       "    .dataframe thead th {\n",
       "        text-align: right;\n",
       "    }\n",
       "</style>\n",
       "<table border=\"1\" class=\"dataframe\">\n",
       "  <thead>\n",
       "    <tr style=\"text-align: right;\">\n",
       "      <th></th>\n",
       "      <th>email</th>\n",
       "      <th>full_name</th>\n",
       "      <th>first</th>\n",
       "      <th>last</th>\n",
       "    </tr>\n",
       "  </thead>\n",
       "  <tbody>\n",
       "    <tr>\n",
       "      <th>0</th>\n",
       "      <td>gaji@123.com</td>\n",
       "      <td>Yaqub Gaji</td>\n",
       "      <td>Yaqub</td>\n",
       "      <td>Gaji</td>\n",
       "    </tr>\n",
       "    <tr>\n",
       "      <th>3</th>\n",
       "      <td>ola@gmail.ng</td>\n",
       "      <td>Taiwo Olatunji</td>\n",
       "      <td>Taiwo</td>\n",
       "      <td>Olatunji</td>\n",
       "    </tr>\n",
       "    <tr>\n",
       "      <th>4</th>\n",
       "      <td>IronMan@avenge.com</td>\n",
       "      <td>NaN</td>\n",
       "      <td>Yaqub</td>\n",
       "      <td>Dawodu</td>\n",
       "    </tr>\n",
       "    <tr>\n",
       "      <th>5</th>\n",
       "      <td>Cap@avenge.com</td>\n",
       "      <td>NaN</td>\n",
       "      <td>Abubakar</td>\n",
       "      <td>Ayanda</td>\n",
       "    </tr>\n",
       "    <tr>\n",
       "      <th>6</th>\n",
       "      <td>IronMan@avenge.com</td>\n",
       "      <td>NaN</td>\n",
       "      <td>Yaqub</td>\n",
       "      <td>Dawodu</td>\n",
       "    </tr>\n",
       "    <tr>\n",
       "      <th>7</th>\n",
       "      <td>Cap@avenge.com</td>\n",
       "      <td>NaN</td>\n",
       "      <td>Abubakar</td>\n",
       "      <td>Ayanda</td>\n",
       "    </tr>\n",
       "  </tbody>\n",
       "</table>\n",
       "</div>"
      ],
      "text/plain": [
       "                email       full_name     first      last\n",
       "0        gaji@123.com      Yaqub Gaji     Yaqub      Gaji\n",
       "3        ola@gmail.ng  Taiwo Olatunji     Taiwo  Olatunji\n",
       "4  IronMan@avenge.com             NaN     Yaqub    Dawodu\n",
       "5      Cap@avenge.com             NaN  Abubakar    Ayanda\n",
       "6  IronMan@avenge.com             NaN     Yaqub    Dawodu\n",
       "7      Cap@avenge.com             NaN  Abubakar    Ayanda"
      ]
     },
     "execution_count": 47,
     "metadata": {},
     "output_type": "execute_result"
    }
   ],
   "source": [
    "# Dropping rows with conditions\n",
    "# Dropping rows where last name = 'Abdulkareem'\n",
    "filt = df['last'] == 'Abdulkareem'\n",
    "df.drop(index=df[filt].index)"
   ]
  },
  {
   "cell_type": "code",
   "execution_count": null,
   "id": "b3f5002a",
   "metadata": {},
   "outputs": [],
   "source": []
  }
 ],
 "metadata": {
  "kernelspec": {
   "display_name": "Python 3 (ipykernel)",
   "language": "python",
   "name": "python3"
  },
  "language_info": {
   "codemirror_mode": {
    "name": "ipython",
    "version": 3
   },
   "file_extension": ".py",
   "mimetype": "text/x-python",
   "name": "python",
   "nbconvert_exporter": "python",
   "pygments_lexer": "ipython3",
   "version": "3.9.12"
  }
 },
 "nbformat": 4,
 "nbformat_minor": 5
}
